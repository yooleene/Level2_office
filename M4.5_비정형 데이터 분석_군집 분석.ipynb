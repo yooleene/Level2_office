{
  "cells": [
    {
      "attachments": {},
      "cell_type": "markdown",
      "metadata": {
        "id": "yRJPtXEaccx9"
      },
      "source": [
        "## <b>Chapter 5.군집 분석(Cluster Analysis)</b>"
      ]
    },
    {
      "attachments": {},
      "cell_type": "markdown",
      "metadata": {},
      "source": [
        "- 군집 분석은 데이터의 특성에 따라 유사한 것끼리 묶은 것이다.\n",
        "- 유사성을 기반으로 군집을 분류하고, 군집에 따라 유형별 특징을 분석하는 기법이다.\n",
        "- 텍스트에 대한 군집 분석에서는 군집으로 묶여진 텍스트들끼리는 최대한 유사하고, 다른 군집으로 묶여진 텍스트들과는 최대한 유사하지 않도록 분류하는 것이다."
      ]
    },
    {
      "attachments": {},
      "cell_type": "markdown",
      "metadata": {
        "id": "VTtgEyisEzZs"
      },
      "source": [
        "### 1. 텍스트 유사도(Text Similarity)\n",
        "\n",
        "- 텍스트 유사도는 대표적으로 텍스트 쌍에 대한 자카드 유사도와 코사인 유사도로 계산할 수 있다.\n",
        "- 자카드 유사도(Jaccard Similarity): 두 텍스트 문서 사이에 공통된 용어의 수와 해당 텍스트에 존재하는 총 고유 용어 수의 비율을 사용한다.\n",
        "- 코사인 유사도(Cosine Similarity): 두 벡터 간의 코사인 각도를 이용하여 구할 수 있는 유사도 계산 방식이다."
      ]
    },
    {
      "attachments": {},
      "cell_type": "markdown",
      "metadata": {},
      "source": [
        "#### 1) 자카드 유사도"
      ]
    },
    {
      "attachments": {},
      "cell_type": "markdown",
      "metadata": {},
      "source": [
        "<img src='images/jaccard1.png' width='300px'><img src='images/jaccard2.png' width='400px'>\n",
        "  \n",
        "- A, B 두개의 집합이 있다고 할 때, 합집합에서 교집합의 비율을 구함으로써 유사도를 계산 방식이다.\n",
        "\n",
        "  ###### * 출처 : https://blog.naver.com/sw4r/222223674842"
      ]
    },
    {
      "attachments": {},
      "cell_type": "markdown",
      "metadata": {},
      "source": [
        "##### ① 데이터 입력"
      ]
    },
    {
      "cell_type": "code",
      "execution_count": 1,
      "metadata": {},
      "outputs": [],
      "source": [
        "d1 = \"The sky is blue\"\n",
        "d2 = \"The sun is bright\" \n",
        "d3 = \"The sun in the sky is bright\""
      ]
    },
    {
      "attachments": {},
      "cell_type": "markdown",
      "metadata": {},
      "source": [
        "##### ② 자카드 유사도 함수 생성"
      ]
    },
    {
      "cell_type": "code",
      "execution_count": 2,
      "metadata": {
        "id": "l-7nbG1VE-cz"
      },
      "outputs": [],
      "source": [
        "from nltk import word_tokenize\n",
        "from nltk.stem import WordNetLemmatizer"
      ]
    },
    {
      "cell_type": "code",
      "execution_count": 3,
      "metadata": {
        "id": "SOWHS-UBFXLc"
      },
      "outputs": [],
      "source": [
        "def jaccard_similarity(d1, d2):\n",
        "    lemmatizer = WordNetLemmatizer() \n",
        "    \n",
        "    words1 = [lemmatizer.lemmatize(word.lower()) for word in word_tokenize(d1)]\n",
        "    words2 = [lemmatizer.lemmatize(word.lower()) for word in word_tokenize(d2)]\n",
        "    inter = len(set(words1).intersection(set(words2))) \n",
        "    union = len(set(words1).union(set(words2))) \n",
        "\n",
        "    return inter/union "
      ]
    },
    {
      "attachments": {},
      "cell_type": "markdown",
      "metadata": {},
      "source": [
        "##### ③ 자카드 유사도 계산"
      ]
    },
    {
      "cell_type": "code",
      "execution_count": 4,
      "metadata": {
        "id": "6NZjjhnHHlOd"
      },
      "outputs": [
        {
          "name": "stdout",
          "output_type": "stream",
          "text": [
            "0.3333333333333333\n",
            "0.42857142857142855\n",
            "0.6666666666666666\n"
          ]
        }
      ],
      "source": [
        "print(jaccard_similarity(d1,d2))\n",
        "print(jaccard_similarity(d1,d3))\n",
        "print(jaccard_similarity(d2,d3))"
      ]
    },
    {
      "attachments": {},
      "cell_type": "markdown",
      "metadata": {},
      "source": [
        "#### 2) 코사인 유사도"
      ]
    },
    {
      "attachments": {},
      "cell_type": "markdown",
      "metadata": {},
      "source": [
        "<img src='images/cos.png' width='980px'>\n",
        "\n",
        "- 두 벡터의 방향이 완전히 동일한 경우에는 1의 값을 가지며, 90°의 각일때 0, 반대방향이면 -1의 값을 가진다.\n",
        "- 코사인 유사도는 -1 이상 1 이하의 값을 가지며 값이 1에 가까울수록 유사도가 높다고 판단할 수 있다."
      ]
    },
    {
      "attachments": {},
      "cell_type": "markdown",
      "metadata": {},
      "source": [
        "##### ① tf-idf vectorizer 객체 생성"
      ]
    },
    {
      "cell_type": "code",
      "execution_count": 6,
      "metadata": {},
      "outputs": [],
      "source": [
        "from sklearn.feature_extraction.text import TfidfVectorizer\n",
        "from sklearn.metrics.pairwise import cosine_similarity\n",
        "\n",
        "import numpy as np\n",
        "\n",
        "tfidf = TfidfVectorizer()"
      ]
    },
    {
      "attachments": {},
      "cell_type": "markdown",
      "metadata": {},
      "source": [
        "##### ② tf-idf 계산"
      ]
    },
    {
      "cell_type": "code",
      "execution_count": 9,
      "metadata": {},
      "outputs": [
        {
          "name": "stdout",
          "output_type": "stream",
          "text": [
            "  (0, 0)\t0.6628399823470976\n",
            "  (0, 3)\t0.39148397136265967\n",
            "  (0, 4)\t0.5041068915759233\n",
            "  (0, 6)\t0.39148397136265967\n",
            "  (1, 1)\t0.5584778353707552\n",
            "  (1, 5)\t0.5584778353707552\n",
            "  (1, 3)\t0.4337078595086741\n",
            "  (1, 6)\t0.4337078595086741\n",
            "  (2, 2)\t0.472490644020669\n",
            "  (2, 1)\t0.3593413134382093\n",
            "  (2, 5)\t0.3593413134382093\n",
            "  (2, 3)\t0.2790605857810957\n",
            "  (2, 4)\t0.3593413134382093\n",
            "  (2, 6)\t0.5581211715621914\n",
            "[[0.66283998 0.         0.         0.39148397 0.50410689 0.\n",
            "  0.39148397]\n",
            " [0.         0.55847784 0.         0.43370786 0.         0.55847784\n",
            "  0.43370786]\n",
            " [0.         0.35934131 0.47249064 0.27906059 0.35934131 0.35934131\n",
            "  0.55812117]]\n"
          ]
        }
      ],
      "source": [
        "docs = np.array([d1,d2,d3])\n",
        "tfidf_matrix = tfidf.fit_transform(docs)\n",
        "print(tfidf_matrix)\n",
        "print(tfidf_matrix.toarray())"
      ]
    },
    {
      "attachments": {},
      "cell_type": "markdown",
      "metadata": {},
      "source": [
        "##### ③ 코사인 유사도 계산"
      ]
    },
    {
      "attachments": {},
      "cell_type": "markdown",
      "metadata": {},
      "source": [
        "- d1과 d1,d2,d3간 유사도"
      ]
    },
    {
      "cell_type": "code",
      "execution_count": 11,
      "metadata": {},
      "outputs": [
        {
          "name": "stdout",
          "output_type": "stream",
          "text": [
            "[[1.         0.33957935 0.50888967]]\n"
          ]
        }
      ],
      "source": [
        "sim = cosine_similarity(tfidf_matrix[0:1], tfidf_matrix)\n",
        "print(sim)"
      ]
    },
    {
      "attachments": {},
      "cell_type": "markdown",
      "metadata": {},
      "source": [
        "- 각 문서간 유사도"
      ]
    },
    {
      "cell_type": "code",
      "execution_count": 12,
      "metadata": {},
      "outputs": [
        {
          "name": "stdout",
          "output_type": "stream",
          "text": [
            "[[1.         0.33957935 0.50888967]\n",
            " [0.33957935 1.         0.76446063]\n",
            " [0.50888967 0.76446063 1.        ]]\n"
          ]
        }
      ],
      "source": [
        "sim = cosine_similarity(tfidf_matrix, tfidf_matrix)\n",
        "print(sim)"
      ]
    },
    {
      "attachments": {},
      "cell_type": "markdown",
      "metadata": {},
      "source": [
        "- 다른 문서와 d1,d2,d3간 유사도"
      ]
    },
    {
      "cell_type": "code",
      "execution_count": 13,
      "metadata": {},
      "outputs": [
        {
          "name": "stdout",
          "output_type": "stream",
          "text": [
            "[[0.39148397 0.43370786 0.27906059]]\n"
          ]
        }
      ],
      "source": [
        "d5 = 'this is test'\n",
        "test = tfidf.transform([d5])\n",
        "sim = cosine_similarity(test, tfidf_matrix)\n",
        "print(sim)"
      ]
    },
    {
      "attachments": {},
      "cell_type": "markdown",
      "metadata": {},
      "source": [
        "- 시각화"
      ]
    },
    {
      "cell_type": "code",
      "execution_count": 16,
      "metadata": {},
      "outputs": [
        {
          "data": {
            "image/png": "[encoded data removed]",
            "text/plain": [
              "<Figure size 500x400 with 2 Axes>"
            ]
          },
          "metadata": {},
          "output_type": "display_data"
        }
      ],
      "source": [
        "import matplotlib.pyplot as plt\n",
        "import seaborn as sns\n",
        "\n",
        "sim = cosine_similarity(tfidf_matrix, tfidf_matrix)\n",
        "# print(sim)\n",
        "\n",
        "map = sns.heatmap(sim, xticklabels=docs, yticklabels=docs, cmap='viridis')\n",
        "map.figure.set_size_inches(5,4)\n",
        "plt.show();"
      ]
    },
    {
      "attachments": {},
      "cell_type": "markdown",
      "metadata": {
        "id": "jmVii1zTce9E"
      },
      "source": [
        "### 2. 군집화를 위한 데이터 전처리"
      ]
    },
    {
      "attachments": {},
      "cell_type": "markdown",
      "metadata": {},
      "source": [
        "- 네이버 영화 리뷰 데이터 : https://raw.githubusercontent.com/e9t/nsmc/master/ratings.txt"
      ]
    },
    {
      "attachments": {},
      "cell_type": "markdown",
      "metadata": {},
      "source": [
        "- 리뷰 데이터 읽기"
      ]
    },
    {
      "cell_type": "code",
      "execution_count": 17,
      "metadata": {},
      "outputs": [
        {
          "name": "stdout",
          "output_type": "stream",
          "text": [
            "['id\\tdocument\\tlabel\\n', '8112052\\t어릴때보고 지금다시봐도 재밌어요ㅋㅋ\\t1\\n', '8132799\\t디자인을 배우는 학생으로, 외국디자이너와 그들이 일군 전통을 통해 발전해가는 문화산업이 부러웠는데. 사실 우리나라에서도 그 어려운시절에 끝까지 열정을 지킨 노라노 같은 전통이있어 저와 같은 사람들이 꿈을 꾸고 이뤄나갈 수 있다는 것에 감사합니다.\\t1\\n']\n"
          ]
        }
      ],
      "source": [
        "f = open('data_set/ratings.txt', 'r', encoding='utf-8') \n",
        "raw = f.readlines()\n",
        "print(raw[:3])"
      ]
    },
    {
      "attachments": {},
      "cell_type": "markdown",
      "metadata": {},
      "source": [
        "- 리뷰 데이터만 추출"
      ]
    },
    {
      "cell_type": "code",
      "execution_count": 18,
      "metadata": {
        "id": "Gcpkxp0icHTK"
      },
      "outputs": [
        {
          "name": "stdout",
          "output_type": "stream",
          "text": [
            "['document', '어릴때보고 지금다시봐도 재밌어요ㅋㅋ', '디자인을 배우는 학생으로, 외국디자이너와 그들이 일군 전통을 통해 발전해가는 문화산업이 부러웠는데. 사실 우리나라에서도 그 어려운시절에 끝까지 열정을 지킨 노라노 같은 전통이있어 저와 같은 사람들이 꿈을 꾸고 이뤄나갈 수 있다는 것에 감사합니다.', '폴리스스토리 시리즈는 1부터 뉴까지 버릴께 하나도 없음.. 최고.', '와.. 연기가 진짜 개쩔구나.. 지루할거라고 생각했는데 몰입해서 봤다.. 그래 이런게 진짜 영화지']\n"
          ]
        }
      ],
      "source": [
        "reviews = []\n",
        "for i in raw:\n",
        "    reviews.append(i.split(\"\\t\")[1])\n",
        "\n",
        "print(reviews[:5])"
      ]
    },
    {
      "attachments": {},
      "cell_type": "markdown",
      "metadata": {},
      "source": [
        "- 'document' 제외"
      ]
    },
    {
      "cell_type": "code",
      "execution_count": 19,
      "metadata": {},
      "outputs": [
        {
          "name": "stdout",
          "output_type": "stream",
          "text": [
            "['어릴때보고 지금다시봐도 재밌어요ㅋㅋ', '디자인을 배우는 학생으로, 외국디자이너와 그들이 일군 전통을 통해 발전해가는 문화산업이 부러웠는데. 사실 우리나라에서도 그 어려운시절에 끝까지 열정을 지킨 노라노 같은 전통이있어 저와 같은 사람들이 꿈을 꾸고 이뤄나갈 수 있다는 것에 감사합니다.', '폴리스스토리 시리즈는 1부터 뉴까지 버릴께 하나도 없음.. 최고.', '와.. 연기가 진짜 개쩔구나.. 지루할거라고 생각했는데 몰입해서 봤다.. 그래 이런게 진짜 영화지', '안개 자욱한 밤하늘에 떠 있는 초승달 같은 영화.']\n"
          ]
        }
      ],
      "source": [
        "reviews = reviews[1:]\n",
        "print(reviews[:5])"
      ]
    },
    {
      "attachments": {},
      "cell_type": "markdown",
      "metadata": {},
      "source": [
        "- 형태소 분석 : 2차원 리스트로 명사만 추출"
      ]
    },
    {
      "cell_type": "code",
      "execution_count": 20,
      "metadata": {
        "id": "8UXKdQxye2Lm"
      },
      "outputs": [
        {
          "name": "stderr",
          "output_type": "stream",
          "text": [
            "100%|██████████| 200000/200000 [01:36<00:00, 2077.43it/s]\n"
          ]
        }
      ],
      "source": [
        "from kiwipiepy import Kiwi\n",
        "from kiwipiepy.utils import Stopwords\n",
        "from tqdm import tqdm\n",
        "\n",
        "kiwi = Kiwi()\n",
        "stopwords = Stopwords()\n",
        "reviews_token = []\n",
        "\n",
        "for review in tqdm(reviews):\n",
        "    token = kiwi.tokenize(review, stopwords=stopwords)\n",
        "    review_token = []\n",
        "    for t in token:\n",
        "        if t.tag[0] == 'N': review_token.append(t.form)\n",
        "    reviews_token.append(review_token)"
      ]
    },
    {
      "cell_type": "code",
      "execution_count": 21,
      "metadata": {},
      "outputs": [
        {
          "name": "stdout",
          "output_type": "stream",
          "text": [
            "[[], ['디자인', '학생', '외국', '디자이너', '전통', '발전', '문화', '산업', '나라', '시절', '끝', '열정', '노라노', '전통', '저', '꿈', '감사'], ['폴리스', '스토리', '시리즈', '뉴', '하나', '최고'], ['연기', '개쩔', '거', '생각', '몰입', '진짜', '영화'], ['안개', '밤하늘', '초승달', '영화']]\n"
          ]
        }
      ],
      "source": [
        "print(reviews_token[:5])"
      ]
    },
    {
      "attachments": {},
      "cell_type": "markdown",
      "metadata": {
        "id": "qDBX_LypciM-"
      },
      "source": [
        "### 3. Word2Vec 생성"
      ]
    },
    {
      "attachments": {},
      "cell_type": "markdown",
      "metadata": {
        "id": "yXYVPJ2CUtW-"
      },
      "source": [
        "* `Word2Vec` 모델을 생성한다.\n",
        "* `gensim`의 `Word2Vec`은 선언과 동시에 학습을 해 단어 벡터들을 생성한다."
      ]
    },
    {
      "attachments": {},
      "cell_type": "markdown",
      "metadata": {},
      "source": [
        "##### ① word2vec 모델 생성"
      ]
    },
    {
      "cell_type": "code",
      "execution_count": 24,
      "metadata": {
        "id": "4m3e4uXkcosI"
      },
      "outputs": [],
      "source": [
        "from gensim.models import Word2Vec\n",
        "from sklearn.manifold import TSNE\n",
        "from matplotlib import font_manager as fm\n",
        "from matplotlib import rc"
      ]
    },
    {
      "cell_type": "code",
      "execution_count": 27,
      "metadata": {
        "id": "PReikYb7nfIg"
      },
      "outputs": [],
      "source": [
        "word2vec = Word2Vec(reviews_token, min_count=5)"
      ]
    },
    {
      "attachments": {},
      "cell_type": "markdown",
      "metadata": {},
      "source": [
        "##### ② 영화와 유사한 단어 추출"
      ]
    },
    {
      "cell_type": "code",
      "execution_count": 29,
      "metadata": {
        "id": "Jx3Prw-hnfPC"
      },
      "outputs": [
        {
          "name": "stdout",
          "output_type": "stream",
          "text": [
            "[('독립', 0.6918767094612122), ('수작', 0.6903989911079407), ('왜캐', 0.6554484963417053), ('상업', 0.6469360589981079), ('포르노', 0.6202649474143982), ('공포물', 0.6200814843177795), ('사색', 0.6105401515960693), ('외국', 0.6056660413742065), ('예산', 0.6039360761642456), ('철학', 0.6036142706871033), ('선사', 0.5985875129699707), ('깽깽이', 0.5976419448852539), ('야동', 0.5939812660217285), ('따름', 0.5931739211082458), ('향수', 0.5914575457572937), ('무녀', 0.5912755727767944), ('저질', 0.5907258987426758), ('느와르', 0.5902554392814636), ('만큼', 0.589837372303009), ('매니아', 0.5897373557090759), ('근래', 0.5895196199417114), ('영상물', 0.5887032747268677), ('필름', 0.5878769755363464), ('재난', 0.5872781872749329), ('최초', 0.5859177708625793), ('감안', 0.5856412053108215), ('관객', 0.5854791402816772), ('싸구려', 0.5851873159408569), ('데미', 0.5844867825508118), ('경향', 0.5829750299453735)]\n"
          ]
        }
      ],
      "source": [
        "sim = word2vec.wv.most_similar('영화', topn=30)\n",
        "print(sim)"
      ]
    },
    {
      "attachments": {},
      "cell_type": "markdown",
      "metadata": {
        "id": "V90Ql6QzVuQm"
      },
      "source": [
        "##### ③ t-sne을 이용한 단어 벡터 시각화"
      ]
    },
    {
      "cell_type": "code",
      "execution_count": 30,
      "metadata": {
        "id": "anGrbCTinfVl"
      },
      "outputs": [],
      "source": [
        "tsne = TSNE(n_components=2)\n"
      ]
    },
    {
      "attachments": {},
      "cell_type": "markdown",
      "metadata": {},
      "source": [
        "##### ④ 어휘간 유사도 계산"
      ]
    },
    {
      "cell_type": "code",
      "execution_count": 38,
      "metadata": {},
      "outputs": [
        {
          "data": {
            "text/plain": [
              "['영화',\n",
              " '거',\n",
              " '점',\n",
              " '연기',\n",
              " '최고',\n",
              " '평점',\n",
              " '이거',\n",
              " '생각',\n",
              " '스토리',\n",
              " '드라마',\n",
              " '듯',\n",
              " '뭐',\n",
              " '감동',\n",
              " '배우',\n",
              " '내용',\n",
              " '재미',\n",
              " '감독',\n",
              " '시간',\n",
              " '쓰레기',\n",
              " '사랑',\n",
              " '번',\n",
              " '작품',\n",
              " '이것',\n",
              " '정도',\n",
              " '마지막',\n",
              " '액션',\n",
              " '편',\n",
              " '개',\n",
              " '분',\n",
              " '기대',\n",
              " '만',\n",
              " '장면',\n",
              " '하나',\n",
              " '처음',\n",
              " '끝',\n",
              " '최악',\n",
              " '줄',\n",
              " '돈',\n",
              " '이야기',\n",
              " '느낌',\n",
              " '저',\n",
              " '이해',\n",
              " '명작',\n",
              " '이상',\n",
              " '여자',\n",
              " '잼',\n",
              " '한국',\n",
              " '주인공',\n",
              " '기억',\n",
              " '연출',\n",
              " '애',\n",
              " '마음',\n",
              " '현실',\n",
              " '결말',\n",
              " '인생',\n",
              " '데',\n",
              " '남자',\n",
              " '공포',\n",
              " '전개',\n",
              " '소재',\n",
              " '짜증',\n",
              " '반전',\n",
              " '필요',\n",
              " '굿',\n",
              " '전',\n",
              " '씨',\n",
              " '수준',\n",
              " '눈물',\n",
              " '음악',\n",
              " '매력',\n",
              " '가슴',\n",
              " '일본',\n",
              " '속',\n",
              " '아이',\n",
              " '인간',\n",
              " '원작',\n",
              " '추천',\n",
              " '코미디',\n",
              " '급',\n",
              " '자체',\n",
              " '실망',\n",
              " '누구',\n",
              " '눈',\n",
              " '캐릭터',\n",
              " '뿐',\n",
              " '가족',\n",
              " '여운',\n",
              " '연기력',\n",
              " '모습',\n",
              " '짱',\n",
              " '개봉',\n",
              " '시리즈',\n",
              " '뻔',\n",
              " '표현',\n",
              " '공감',\n",
              " '극장',\n",
              " '부분',\n",
              " '몰입',\n",
              " '지금',\n",
              " '어디',\n",
              " '대사',\n",
              " '제목',\n",
              " '기분',\n",
              " '진심',\n",
              " '억지',\n",
              " '작가',\n",
              " '스릴러',\n",
              " '알바',\n",
              " '삶',\n",
              " '막장',\n",
              " '친구',\n",
              " '점수',\n",
              " '영상',\n",
              " '부족',\n",
              " '이유',\n",
              " '긴장감',\n",
              " '노래',\n",
              " '시작',\n",
              " '개인',\n",
              " '중간',\n",
              " '지',\n",
              " '후',\n",
              " '대',\n",
              " '나라',\n",
              " '의미',\n",
              " '물',\n",
              " '나름',\n",
              " '발',\n",
              " '당시',\n",
              " '박',\n",
              " '오랜만',\n",
              " '놈',\n",
              " '시대',\n",
              " '요즘',\n",
              " '터',\n",
              " '씬',\n",
              " '웃음',\n",
              " '감정',\n",
              " '그것',\n",
              " '세상',\n",
              " '신',\n",
              " '전쟁',\n",
              " '욕',\n",
              " '년대',\n",
              " '무엇',\n",
              " '적',\n",
              " '팬',\n",
              " '남',\n",
              " '완전',\n",
              " '반',\n",
              " '만화',\n",
              " '설정',\n",
              " '앞',\n",
              " '힘',\n",
              " '수작',\n",
              " '애니',\n",
              " '관객',\n",
              " '행복',\n",
              " '소리',\n",
              " '너',\n",
              " '시나리오',\n",
              " '배경',\n",
              " '자신',\n",
              " '꺼',\n",
              " '미국',\n",
              " '평',\n",
              " '글',\n",
              " '정신',\n",
              " '소름',\n",
              " '분위기',\n",
              " '엔딩',\n",
              " '기',\n",
              " '시절',\n",
              " '흥미',\n",
              " '작',\n",
              " '캐스팅',\n",
              " '추억',\n",
              " '졸작',\n",
              " '문제',\n",
              " '엄마',\n",
              " '초반',\n",
              " '역사',\n",
              " '주',\n",
              " '영화관',\n",
              " '구성',\n",
              " '포스터',\n",
              " '후회',\n",
              " '주연',\n",
              " '완벽',\n",
              " '애니메이션',\n",
              " '장난',\n",
              " '얘기',\n",
              " '개연',\n",
              " '진짜',\n",
              " '식',\n",
              " '집',\n",
              " '코믹',\n",
              " '자',\n",
              " '충격',\n",
              " '맘',\n",
              " '더빙',\n",
              " '인상',\n",
              " '스릴',\n",
              " '평가',\n",
              " '책',\n",
              " '여기',\n",
              " '예술',\n",
              " '동안',\n",
              " '얼굴',\n",
              " '옛날',\n",
              " '방송',\n",
              " '극',\n",
              " '낭비',\n",
              " '이름',\n",
              " '티비',\n",
              " '살',\n",
              " '장르',\n",
              " '둘',\n",
              " '출연',\n",
              " '순수',\n",
              " '뒤',\n",
              " '주제',\n",
              " '이후',\n",
              " '머리',\n",
              " '회',\n",
              " '이',\n",
              " '상황',\n",
              " '형',\n",
              " '잔인',\n",
              " '시',\n",
              " '시청',\n",
              " '인물',\n",
              " '시즌',\n",
              " '걸작',\n",
              " '다음',\n",
              " '첨',\n",
              " '여주인공',\n",
              " '자기',\n",
              " '다큐',\n",
              " '감사',\n",
              " '몰입도',\n",
              " '안',\n",
              " '로맨스',\n",
              " '사실',\n",
              " '화',\n",
              " '예전',\n",
              " '실화',\n",
              " '집중',\n",
              " '꿈',\n",
              " '영상미',\n",
              " '킬링타임',\n",
              " '사회',\n",
              " '만큼',\n",
              " '머',\n",
              " '비디오',\n",
              " '전체',\n",
              " '소설',\n",
              " '배',\n",
              " '비교',\n",
              " '유치',\n",
              " '타임',\n",
              " '초딩',\n",
              " '네이버',\n",
              " '일',\n",
              " '감성',\n",
              " '나이',\n",
              " '중국',\n",
              " '만점',\n",
              " '아들',\n",
              " '그거',\n",
              " '세계',\n",
              " '잠',\n",
              " '맛',\n",
              " '별',\n",
              " '당신',\n",
              " '성룡',\n",
              " '목소리',\n",
              " '삼류',\n",
              " '가능',\n",
              " '이하',\n",
              " '이제',\n",
              " '판타지',\n",
              " '교훈',\n",
              " '순간',\n",
              " '가치',\n",
              " '여배우',\n",
              " '딸',\n",
              " '비',\n",
              " '평론가',\n",
              " '방',\n",
              " '별점',\n",
              " '위',\n",
              " '어른',\n",
              " '똥',\n",
              " '성우',\n",
              " '면',\n",
              " '아버지',\n",
              " '오',\n",
              " '각본',\n",
              " '날',\n",
              " '줄거리',\n",
              " '존재',\n",
              " '여주',\n",
              " '땜',\n",
              " '멜로',\n",
              " '니',\n",
              " '밑',\n",
              " '노잼',\n",
              " '다운',\n",
              " '이번',\n",
              " '꿀',\n",
              " '자연',\n",
              " '간',\n",
              " '의도',\n",
              " '망',\n",
              " '역',\n",
              " '화면',\n",
              " '그녀',\n",
              " '독특',\n",
              " '재밋',\n",
              " '스타일',\n",
              " '예상',\n",
              " '허무',\n",
              " '요소',\n",
              " '법',\n",
              " '복수',\n",
              " '중요',\n",
              " '세',\n",
              " '아빠',\n",
              " '선택',\n",
              " '감',\n",
              " '존',\n",
              " '우리나라',\n",
              " '척',\n",
              " '댓글',\n",
              " '거기',\n",
              " '불편',\n",
              " '제작',\n",
              " '흥행',\n",
              " '관람',\n",
              " '짓',\n",
              " '진행',\n",
              " '몸',\n",
              " '판',\n",
              " '가지',\n",
              " '단순',\n",
              " '학교',\n",
              " '사건',\n",
              " '역대',\n",
              " '곳',\n",
              " '만족',\n",
              " '연출력',\n",
              " '편집',\n",
              " '한마디',\n",
              " '극장판',\n",
              " '년도',\n",
              " '손',\n",
              " '귀신',\n",
              " '게임',\n",
              " '전형',\n",
              " '답',\n",
              " '개그',\n",
              " '따위',\n",
              " '프랑스',\n",
              " '장',\n",
              " '자극',\n",
              " '코메디',\n",
              " '에로',\n",
              " '감상',\n",
              " '그래픽',\n",
              " '관계',\n",
              " '천재',\n",
              " '홍콩',\n",
              " '거리',\n",
              " '표정',\n",
              " '불륜',\n",
              " '정',\n",
              " '오늘',\n",
              " '상상',\n",
              " '노력',\n",
              " '상영',\n",
              " '좀비',\n",
              " '연기자',\n",
              " '후반부',\n",
              " '결국',\n",
              " '대박',\n",
              " '취향',\n",
              " '예고편',\n",
              " '바보',\n",
              " '미안',\n",
              " '심리',\n",
              " '설명',\n",
              " '과거',\n",
              " '열',\n",
              " '미',\n",
              " '대한민국',\n",
              " '죽음',\n",
              " '외',\n",
              " '프로',\n",
              " '예산',\n",
              " '마무리',\n",
              " '진실',\n",
              " '그림',\n",
              " '결혼',\n",
              " '새끼',\n",
              " '대작',\n",
              " '아저씨',\n",
              " '차',\n",
              " '조연',\n",
              " '전설',\n",
              " '등장',\n",
              " '티',\n",
              " '특유',\n",
              " '병맛',\n",
              " '산',\n",
              " '관심',\n",
              " '노출',\n",
              " '희망',\n",
              " '전달',\n",
              " '수',\n",
              " '허접',\n",
              " '환상',\n",
              " '동화',\n",
              " '경찰',\n",
              " '부모',\n",
              " '메세지',\n",
              " '저질',\n",
              " '길',\n",
              " '내',\n",
              " '총',\n",
              " '독립',\n",
              " '능력',\n",
              " '후반',\n",
              " '행동',\n",
              " '오빠',\n",
              " '촬영',\n",
              " '엉망',\n",
              " '유머',\n",
              " '모두',\n",
              " '프로그램',\n",
              " '전작',\n",
              " '묘사',\n",
              " '소녀',\n",
              " '지루',\n",
              " '바',\n",
              " '생',\n",
              " '리메이크',\n",
              " '조금',\n",
              " '청춘',\n",
              " '리',\n",
              " '미화',\n",
              " '완성도',\n",
              " '암',\n",
              " '입',\n",
              " '노',\n",
              " '역할',\n",
              " '인정',\n",
              " '로맨틱',\n",
              " '멋',\n",
              " '여성',\n",
              " '효과',\n",
              " '백',\n",
              " '속편',\n",
              " '나중',\n",
              " '다행',\n",
              " '선생',\n",
              " '몇',\n",
              " '초',\n",
              " '제작비',\n",
              " '원',\n",
              " '어이',\n",
              " '성',\n",
              " '범죄',\n",
              " '과정',\n",
              " '철학',\n",
              " '전편',\n",
              " '미래',\n",
              " '그때',\n",
              " '밥',\n",
              " '성공',\n",
              " '영웅',\n",
              " '혼자',\n",
              " '채널',\n",
              " '사이',\n",
              " '범인',\n",
              " '알',\n",
              " '무어',\n",
              " '무비',\n",
              " '유명',\n",
              " '군',\n",
              " '사극',\n",
              " '나머지',\n",
              " '문화',\n",
              " '카메라',\n",
              " '케이블',\n",
              " '성장',\n",
              " '차이',\n",
              " '병',\n",
              " '아무것',\n",
              " '바람',\n",
              " '살인',\n",
              " '피',\n",
              " '군대',\n",
              " '스케일',\n",
              " '자유',\n",
              " '거지',\n",
              " '생애',\n",
              " '박수',\n",
              " '호러',\n",
              " '모',\n",
              " '스타',\n",
              " '리얼',\n",
              " '제작진',\n",
              " '미소',\n",
              " '우울',\n",
              " '인',\n",
              " '중반',\n",
              " '숨',\n",
              " '밤',\n",
              " '상상력',\n",
              " '메시지',\n",
              " '고생',\n",
              " '마디',\n",
              " '영',\n",
              " '부',\n",
              " '촌',\n",
              " '동생',\n",
              " '드',\n",
              " '괴물',\n",
              " '어린이',\n",
              " '봄',\n",
              " '결론',\n",
              " '고민',\n",
              " '상',\n",
              " '실패',\n",
              " '커플',\n",
              " '언니',\n",
              " '아침',\n",
              " '밖',\n",
              " '리뷰',\n",
              " '조',\n",
              " '발견',\n",
              " '일상',\n",
              " '아쉬움',\n",
              " '한계',\n",
              " '광고',\n",
              " '성인',\n",
              " '폭력',\n",
              " '긴장',\n",
              " '손발',\n",
              " '종교',\n",
              " '지루함',\n",
              " '아놔',\n",
              " '감탄',\n",
              " '탄',\n",
              " '포장',\n",
              " '슬픔',\n",
              " '싸이코',\n",
              " '선',\n",
              " '상처',\n",
              " '자막',\n",
              " '인기',\n",
              " '유일',\n",
              " '흐름',\n",
              " '기본',\n",
              " '정서',\n",
              " '왕',\n",
              " '용서',\n",
              " '연애',\n",
              " '동물',\n",
              " '뮤지컬',\n",
              " '조폭',\n",
              " '분노',\n",
              " '춤',\n",
              " '시선',\n",
              " '여행',\n",
              " '덕분',\n",
              " '홍보',\n",
              " '뜻',\n",
              " '시청자',\n",
              " '불가',\n",
              " '무협',\n",
              " '섹스',\n",
              " '몸매',\n",
              " '개판',\n",
              " '퀄리티',\n",
              " '코드',\n",
              " '꼴',\n",
              " '킬링',\n",
              " '남편',\n",
              " '소장',\n",
              " '볼거리',\n",
              " '표절',\n",
              " '힐링',\n",
              " '반성',\n",
              " '우정',\n",
              " '포기',\n",
              " '빛',\n",
              " '자식',\n",
              " '실제',\n",
              " '비극',\n",
              " '사',\n",
              " '시도',\n",
              " '삼',\n",
              " '조절',\n",
              " '최근',\n",
              " '불',\n",
              " '방식',\n",
              " '정치',\n",
              " '평생',\n",
              " '막판',\n",
              " '고전',\n",
              " '눈빛',\n",
              " '공부',\n",
              " '국민',\n",
              " '블랙',\n",
              " '압권',\n",
              " '무시',\n",
              " '죄',\n",
              " '의심',\n",
              " '울',\n",
              " '십',\n",
              " '이연걸',\n",
              " '악당',\n",
              " '지구',\n",
              " '악역',\n",
              " '재난',\n",
              " '도',\n",
              " '천',\n",
              " '언제',\n",
              " '다큐멘터리',\n",
              " '새벽',\n",
              " '창',\n",
              " '북한',\n",
              " '악',\n",
              " '열정',\n",
              " '오락',\n",
              " '입장',\n",
              " '남녀',\n",
              " '해피엔딩',\n",
              " '문',\n",
              " '질',\n",
              " '연결',\n",
              " '님',\n",
              " '결과',\n",
              " '시걸',\n",
              " '팔',\n",
              " '디즈니',\n",
              " '반복',\n",
              " '시각',\n",
              " '비주얼',\n",
              " '중',\n",
              " '아이돌',\n",
              " '발전',\n",
              " '외국',\n",
              " '싸움',\n",
              " '올해',\n",
              " '하루',\n",
              " '출연진',\n",
              " '실력',\n",
              " '특별',\n",
              " '김',\n",
              " '게이',\n",
              " '톰',\n",
              " '소',\n",
              " '전문가',\n",
              " '아무',\n",
              " '등장인물',\n",
              " '헐리우드',\n",
              " '러브',\n",
              " '연예인',\n",
              " '표',\n",
              " '러닝',\n",
              " '팀',\n",
              " '청소년',\n",
              " '어머니',\n",
              " '신경',\n",
              " '해석',\n",
              " '아줌마',\n",
              " '한국인',\n",
              " '자리',\n",
              " '히어로',\n",
              " '의문',\n",
              " '갑',\n",
              " '덕',\n",
              " '세기',\n",
              " '과장',\n",
              " '생활',\n",
              " '본인',\n",
              " '비판',\n",
              " '귀',\n",
              " '라인',\n",
              " '학생',\n",
              " '방법',\n",
              " '의리',\n",
              " '볼',\n",
              " '필름',\n",
              " '고통',\n",
              " '학년',\n",
              " '싸구려',\n",
              " '약',\n",
              " '견자단',\n",
              " '로그인',\n",
              " '누나',\n",
              " '담',\n",
              " '특수',\n",
              " '갈등',\n",
              " '오버',\n",
              " '점주',\n",
              " '색',\n",
              " '이미지',\n",
              " '미드',\n",
              " '기자',\n",
              " '시트콤',\n",
              " '강',\n",
              " '쪽',\n",
              " '짝',\n",
              " '존경',\n",
              " '극치',\n",
              " '김기덕',\n",
              " '짝퉁',\n",
              " '베스트',\n",
              " '상업',\n",
              " '조작',\n",
              " '심장',\n",
              " '애기',\n",
              " '유발',\n",
              " '에피소드',\n",
              " '영어',\n",
              " '희생',\n",
              " '명품',\n",
              " '진리',\n",
              " '인도',\n",
              " '우주',\n",
              " '코난',\n",
              " '아역',\n",
              " '피해자',\n",
              " '사기',\n",
              " '구',\n",
              " '양심',\n",
              " '시사회',\n",
              " '로봇',\n",
              " '나',\n",
              " '연속',\n",
              " '형사',\n",
              " '외모',\n",
              " '조합',\n",
              " '엿',\n",
              " '국내',\n",
              " '경험',\n",
              " '국가',\n",
              " '주말',\n",
              " '개념',\n",
              " '영원',\n",
              " '억',\n",
              " '테러',\n",
              " '아픔',\n",
              " '교육',\n",
              " '미스',\n",
              " '대화',\n",
              " '검색',\n",
              " '달',\n",
              " '전투',\n",
              " '개뿔',\n",
              " '편견',\n",
              " '기술',\n",
              " '자살',\n",
              " '할머니',\n",
              " '칼',\n",
              " '목',\n",
              " '대중',\n",
              " '금',\n",
              " '쓰래기',\n",
              " '느와르',\n",
              " '주변',\n",
              " '가수',\n",
              " '섹시',\n",
              " '개성',\n",
              " '체',\n",
              " '제로',\n",
              " '마이클',\n",
              " '미모',\n",
              " '명성',\n",
              " '허세',\n",
              " '용',\n",
              " '레알',\n",
              " '외계인',\n",
              " '영혼',\n",
              " '맥',\n",
              " '재밋게',\n",
              " '고양이',\n",
              " '투자',\n",
              " '초등학생',\n",
              " '옆',\n",
              " '마이너스',\n",
              " '유쾌',\n",
              " '류',\n",
              " '풍경',\n",
              " '현재',\n",
              " '사진',\n",
              " '다양',\n",
              " '오브',\n",
              " '응원',\n",
              " '이용',\n",
              " '대본',\n",
              " '옷',\n",
              " '카리스마',\n",
              " '코',\n",
              " '변화',\n",
              " '기세',\n",
              " '성격',\n",
              " '악마',\n",
              " '용기',\n",
              " '주성치',\n",
              " '아동',\n",
              " '땅',\n",
              " '스트레스',\n",
              " '의식',\n",
              " '기준',\n",
              " '아',\n",
              " '진',\n",
              " '레전드',\n",
              " '약간',\n",
              " '얼마',\n",
              " '포르노',\n",
              " '습',\n",
              " '아내',\n",
              " '대표',\n",
              " '키',\n",
              " '크리스마스',\n",
              " '센스',\n",
              " '쵝오',\n",
              " '관점',\n",
              " '야동',\n",
              " '운명',\n",
              " '조화',\n",
              " '도전',\n",
              " '등등',\n",
              " '전반',\n",
              " '하나하나',\n",
              " '휴',\n",
              " '욕망',\n",
              " '세월',\n",
              " '정의',\n",
              " '낚시',\n",
              " '변태',\n",
              " '다',\n",
              " '떡',\n",
              " '탑',\n",
              " '형제',\n",
              " '예',\n",
              " '비밀',\n",
              " '스크린',\n",
              " '기회',\n",
              " '수고',\n",
              " '방영',\n",
              " '포인트',\n",
              " '탓',\n",
              " '무리',\n",
              " '특이',\n",
              " '사상',\n",
              " '흉내',\n",
              " '예능',\n",
              " '정말',\n",
              " '색감',\n",
              " '일품',\n",
              " '선물',\n",
              " '깊이',\n",
              " '흑인',\n",
              " '영국',\n",
              " '내면',\n",
              " '감각',\n",
              " '가',\n",
              " '확인',\n",
              " '밋',\n",
              " '매니아',\n",
              " '골',\n",
              " '빈약',\n",
              " '틈',\n",
              " '풍자',\n",
              " '공짜',\n",
              " '차별',\n",
              " '빵',\n",
              " '여름',\n",
              " '전문',\n",
              " '정상',\n",
              " '단어',\n",
              " '아래',\n",
              " '거짓말',\n",
              " '공포물',\n",
              " '상태',\n",
              " '디테일',\n",
              " '부부',\n",
              " '무술',\n",
              " '탄생',\n",
              " '바다',\n",
              " '감명',\n",
              " '주기',\n",
              " '시점',\n",
              " '근래',\n",
              " '호감',\n",
              " '이입',\n",
              " '오바',\n",
              " '최초',\n",
              " '기독교',\n",
              " '동시',\n",
              " '패러디',\n",
              " '한',\n",
              " '감흥',\n",
              " '배역',\n",
              " '하',\n",
              " '냄새',\n",
              " '보고',\n",
              " '관련',\n",
              " '마리',\n",
              " '뇌',\n",
              " '둘째',\n",
              " '최강',\n",
              " '하늘',\n",
              " '왜곡',\n",
              " '양',\n",
              " '명',\n",
              " '여러분',\n",
              " '초등학교',\n",
              " '정체',\n",
              " '전율',\n",
              " '오랫만',\n",
              " '모험',\n",
              " '단편',\n",
              " '작위',\n",
              " '명화',\n",
              " '현대',\n",
              " '소년',\n",
              " '모양',\n",
              " '떄',\n",
              " '중간중간',\n",
              " '라이언',\n",
              " '목적',\n",
              " '다섯',\n",
              " '케릭',\n",
              " '빵점',\n",
              " '꽃',\n",
              " '곡',\n",
              " '기법',\n",
              " '대학',\n",
              " '보',\n",
              " '통쾌',\n",
              " '얘',\n",
              " '업',\n",
              " '토',\n",
              " '가정',\n",
              " '술',\n",
              " '해결',\n",
              " '개막',\n",
              " '쇼',\n",
              " '꼬마',\n",
              " '부실',\n",
              " '집착',\n",
              " '삭제',\n",
              " '승리',\n",
              " '손가락',\n",
              " '짜임새',\n",
              " '제임스',\n",
              " '선동',\n",
              " '잔혹',\n",
              " '감안',\n",
              " '해',\n",
              " '폐지',\n",
              " '종영',\n",
              " '호',\n",
              " '사고',\n",
              " '할아버지',\n",
              " '열연',\n",
              " '채',\n",
              " '쯤',\n",
              " '최대',\n",
              " '절대',\n",
              " '목숨',\n",
              " '공',\n",
              " '제외',\n",
              " '탈출',\n",
              " '어처구니',\n",
              " '만남',\n",
              " '후속작',\n",
              " '대부분',\n",
              " '참고',\n",
              " '스티븐',\n",
              " '폼',\n",
              " '연인',\n",
              " '돌',\n",
              " '키스',\n",
              " '충실',\n",
              " '새',\n",
              " '아이디어',\n",
              " '스텝',\n",
              " '반대',\n",
              " '시기',\n",
              " '맨',\n",
              " '신비',\n",
              " '무',\n",
              " ...]"
            ]
          },
          "execution_count": 38,
          "metadata": {},
          "output_type": "execute_result"
        }
      ],
      "source": [
        "vocab = word2vec.wv.index_to_key\n",
        "# vocab = word2vec.wv.vocab\n",
        "vocab"
      ]
    },
    {
      "cell_type": "code",
      "execution_count": 33,
      "metadata": {},
      "outputs": [
        {
          "data": {
            "text/plain": [
              "array([[-0.6150892 ,  0.3522803 ,  0.29121467, ..., -0.7899781 ,\n",
              "         0.63304067,  0.00302834],\n",
              "       [-0.11088875,  0.5038675 ,  0.28440604, ..., -0.3269081 ,\n",
              "         0.6077059 , -0.31970635],\n",
              "       [-1.0023224 ,  0.61667174, -0.13206849, ..., -0.7839932 ,\n",
              "         0.58727825,  0.24577563],\n",
              "       ...,\n",
              "       [-0.01850049,  0.02232337,  0.03508751, ..., -0.03486353,\n",
              "         0.02087504, -0.0033666 ],\n",
              "       [-0.06792313,  0.06434474,  0.05151773, ..., -0.07024712,\n",
              "         0.03175336,  0.0280801 ],\n",
              "       [-0.01094481,  0.0140528 ,  0.01902563, ..., -0.04270552,\n",
              "         0.03273416, -0.02090781]], dtype=float32)"
            ]
          },
          "execution_count": 33,
          "metadata": {},
          "output_type": "execute_result"
        }
      ],
      "source": [
        "similarity = word2vec.wv[vocab]\n",
        "similarity"
      ]
    },
    {
      "cell_type": "code",
      "execution_count": 35,
      "metadata": {},
      "outputs": [
        {
          "data": {
            "text/plain": [
              "2"
            ]
          },
          "execution_count": 35,
          "metadata": {},
          "output_type": "execute_result"
        }
      ],
      "source": [
        "similarity.ndim"
      ]
    },
    {
      "cell_type": "code",
      "execution_count": 36,
      "metadata": {},
      "outputs": [
        {
          "data": {
            "text/plain": [
              "(11429, 100)"
            ]
          },
          "execution_count": 36,
          "metadata": {},
          "output_type": "execute_result"
        }
      ],
      "source": [
        "similarity.shape"
      ]
    },
    {
      "attachments": {},
      "cell_type": "markdown",
      "metadata": {},
      "source": [
        "##### ⑤ 데이터 프레임으로 변환"
      ]
    },
    {
      "cell_type": "code",
      "execution_count": null,
      "metadata": {},
      "outputs": [],
      "source": [
        "import pandas as pd"
      ]
    },
    {
      "attachments": {},
      "cell_type": "markdown",
      "metadata": {},
      "source": [
        "##### ⑥ 시각화"
      ]
    },
    {
      "cell_type": "code",
      "execution_count": null,
      "metadata": {
        "id": "YtfvRHLcnfc1"
      },
      "outputs": [],
      "source": [
        "import seaborn as sns\n",
        "import matplotlib.pyplot as plt"
      ]
    },
    {
      "attachments": {},
      "cell_type": "markdown",
      "metadata": {
        "id": "n6GqkGGRcw11"
      },
      "source": [
        "### 4. Scikit-learn을 이용한 계층적 군집화"
      ]
    },
    {
      "attachments": {},
      "cell_type": "markdown",
      "metadata": {
        "id": "w3_LdBuB3eu4"
      },
      "source": [
        "* 계층적 군집화란 개별 개체들을 유사한 개체나 그룹과 통합해 군집화를 수행하는 알고리즘\n",
        "* 비계층적 군집화와는 달리 군집 수를 지정하지 않아도 군집화를 할 수 있는 것이 장점  \n",
        "* 계층적 군집화는 모든 개체간 거리나 유사도가 미리 계산되어 있어야만 하며, 계산복잡도도 비계층적 군집화보다 큼\n",
        "\n",
        "\n"
      ]
    },
    {
      "attachments": {},
      "cell_type": "markdown",
      "metadata": {
        "id": "XqmquP17B-6r"
      },
      "source": [
        "- 비계층적 군집화의 일종인 `agglomerativeClustering`(병합 군집)을 이용하여 계층적 군집화 실습을 한다.    \n",
        "- 병합 군집은 각 개체들을 클러스터로 간주, 종료 조건을 만족할 때 까지 가장 비슷한 두 클러스터들을 합치며 진행한다.\n",
        "- 계속 합쳐 나가더라도 언젠가는 종료해야 하는데, 병합 군집의 종료 조건에는 3가지를 지정 가능하다.\n",
        "  1.   ward - 모든 클러스터 내의 분산을 가장 적게 증가시키는 두 클러스터를 합친다.(기본값)\n",
        "  2.   average - 클러스터간 평균 거리가 가장 짧은 두 클러스터를 합친다.\n",
        "  3.   complete - 클러스터간 최대 거리가 가장 짧은 두 클러스터를 합친다.\n",
        "* `scikit-learn` 사용 예제에서는 3가지 종료 조건 간의 차이를 비교해 본다."
      ]
    },
    {
      "attachments": {},
      "cell_type": "markdown",
      "metadata": {
        "id": "5R-3nbN-Cflh"
      },
      "source": [
        "#### 1) ward :  Ward 연결법 (Ward Linkage Method) 이라고 함.\n",
        "- 군집간의 거리에 따라 데이터들을 연결하기 보다는 군집내 편차들의 제곱합에 근거를 두고 군집들을 병합시키는 방법이다.\n",
        "- 군집분석의 각 단계에서 데이터들을 하나의 군집으로 묶음으로써 생기는 정보의 손실을 군집의 평균과 데이터들 사이의 오차제곱합(SSE)으로 아래와 같이 측정한다"
      ]
    },
    {
      "cell_type": "code",
      "execution_count": null,
      "metadata": {
        "id": "Boe1jwGmohMF"
      },
      "outputs": [],
      "source": [
        "from sklearn.cluster import AgglomerativeClustering"
      ]
    },
    {
      "attachments": {},
      "cell_type": "markdown",
      "metadata": {},
      "source": [
        "##### ① ward 객체 생성"
      ]
    },
    {
      "cell_type": "code",
      "execution_count": null,
      "metadata": {
        "id": "YzE7J1qqczzu"
      },
      "outputs": [],
      "source": []
    },
    {
      "attachments": {},
      "cell_type": "markdown",
      "metadata": {},
      "source": [
        "##### ② 어떤 클러스터에 속하는지 예측 연산"
      ]
    },
    {
      "cell_type": "code",
      "execution_count": null,
      "metadata": {},
      "outputs": [],
      "source": []
    },
    {
      "attachments": {},
      "cell_type": "markdown",
      "metadata": {},
      "source": [
        "##### ③ 데이터 프레임으로 변환"
      ]
    },
    {
      "cell_type": "code",
      "execution_count": null,
      "metadata": {
        "id": "fd53VVnloj5-"
      },
      "outputs": [],
      "source": []
    },
    {
      "attachments": {},
      "cell_type": "markdown",
      "metadata": {},
      "source": [
        "##### ④ 시각화"
      ]
    },
    {
      "cell_type": "code",
      "execution_count": null,
      "metadata": {},
      "outputs": [],
      "source": []
    },
    {
      "attachments": {},
      "cell_type": "markdown",
      "metadata": {
        "id": "UzQbDI63Cidh"
      },
      "source": [
        "#### 2) average : 클러스터간 평균 거리가 가장 짧은 두 클러스터를 합친다."
      ]
    },
    {
      "attachments": {},
      "cell_type": "markdown",
      "metadata": {},
      "source": [
        "##### ① average 객체 생성"
      ]
    },
    {
      "cell_type": "code",
      "execution_count": null,
      "metadata": {
        "id": "-UupbES4C4jk"
      },
      "outputs": [],
      "source": [
        "avg = AgglomerativeClustering(n_clusters=6, linkage=\"average\")"
      ]
    },
    {
      "attachments": {},
      "cell_type": "markdown",
      "metadata": {},
      "source": [
        "##### ② 어떤 클러스터에 속하는지 예측 연산"
      ]
    },
    {
      "cell_type": "code",
      "execution_count": null,
      "metadata": {},
      "outputs": [],
      "source": [
        "predict = avg.fit_predict(df)\n",
        "print(predict);"
      ]
    },
    {
      "attachments": {},
      "cell_type": "markdown",
      "metadata": {},
      "source": [
        "##### ③ 데이터 프레임으로 변환"
      ]
    },
    {
      "cell_type": "code",
      "execution_count": null,
      "metadata": {
        "id": "RZsnW5iTC4pC"
      },
      "outputs": [],
      "source": [
        "results = df\n",
        "results['predict'] = predict\n",
        "results[0:10]"
      ]
    },
    {
      "attachments": {},
      "cell_type": "markdown",
      "metadata": {},
      "source": [
        "##### ④ 시각화"
      ]
    },
    {
      "cell_type": "code",
      "execution_count": null,
      "metadata": {
        "id": "82jEoQAoC4rt"
      },
      "outputs": [],
      "source": [
        "map = sns.lmplot(x='x', y='y', data=results, fit_reg=False, hue=\"predict\")\n",
        "map.figure.set_size_inches(10, 7)\n",
        "plt.show();"
      ]
    },
    {
      "attachments": {},
      "cell_type": "markdown",
      "metadata": {
        "id": "06we34IdCkfc"
      },
      "source": [
        "#### 3) complete :  클러스터간 최대 거리가 가장 짧은 두 클러스터를 합친다."
      ]
    },
    {
      "attachments": {},
      "cell_type": "markdown",
      "metadata": {},
      "source": [
        "##### ① complete 객체 생성"
      ]
    },
    {
      "cell_type": "code",
      "execution_count": null,
      "metadata": {
        "id": "vRLkgHafDJ-T"
      },
      "outputs": [],
      "source": [
        "compl = AgglomerativeClustering(n_clusters=6, linkage=\"complete\")"
      ]
    },
    {
      "attachments": {},
      "cell_type": "markdown",
      "metadata": {},
      "source": [
        "##### ② 어떤 클러스터에 속하는지 예측 연산"
      ]
    },
    {
      "cell_type": "code",
      "execution_count": null,
      "metadata": {},
      "outputs": [],
      "source": [
        "predict = compl.fit_predict(df)\n",
        "print(predict)"
      ]
    },
    {
      "attachments": {},
      "cell_type": "markdown",
      "metadata": {},
      "source": [
        "##### ③ 데이터 프레임으로 변환"
      ]
    },
    {
      "cell_type": "code",
      "execution_count": null,
      "metadata": {
        "id": "z4fdn-rLDKAx"
      },
      "outputs": [],
      "source": [
        "results = df\n",
        "results['predict'] = predict\n",
        "results[0:10]"
      ]
    },
    {
      "attachments": {},
      "cell_type": "markdown",
      "metadata": {},
      "source": [
        "##### ④ 시각화"
      ]
    },
    {
      "cell_type": "code",
      "execution_count": null,
      "metadata": {
        "id": "02fa3kUZDKC2"
      },
      "outputs": [],
      "source": [
        "map = sns.lmplot(x='x', y='y', data=results, fit_reg=False, hue=\"predict\")\n",
        "map.figure.set_size_inches(10, 7)\n",
        "plt.show();"
      ]
    },
    {
      "attachments": {},
      "cell_type": "markdown",
      "metadata": {
        "id": "wyqCamWJc0VE"
      },
      "source": [
        "### 5. Scikit-learn을 이용한 비계층적 군집화"
      ]
    },
    {
      "attachments": {},
      "cell_type": "markdown",
      "metadata": {
        "id": "yq0Ft2QsEWZK"
      },
      "source": [
        "* 비계층적 군집화는 나눌 클러스터 개수를 지정해 각 개체가 어느 클러스터에 속하는 지를 결정\n",
        "* 계층적 군집화보다 계산 복잡도가 작기 때문에 대량의 데이터에 유리하나, 클러스터 개수에 따라 군집화 성능이 크게 좌우되기 때문에 조정이 필요"
      ]
    },
    {
      "attachments": {},
      "cell_type": "markdown",
      "metadata": {
        "id": "1MGTaa99FFMM"
      },
      "source": [
        "* 대표적인 비계층적 군집화 알고리즘인 kmeans를 사용해 실습"
      ]
    },
    {
      "attachments": {},
      "cell_type": "markdown",
      "metadata": {},
      "source": [
        "#### [K-Means 클러스터링 개념]\n",
        "- 비지도 학습 알고리즘으로 사전에 클러스터 개수 k와 초기값을 입력하면 각 데이터의 그룹을 할당해 나가는 알고리즘"
      ]
    },
    {
      "attachments": {},
      "cell_type": "markdown",
      "metadata": {},
      "source": [
        "1. 일단 K개의 임의의 중심점(centroid)을 배치하고, 각 데이터들을 가장 가까운 중심점으로 할당한다. (일종의 군집을 형성한다.)"
      ]
    },
    {
      "attachments": {},
      "cell_type": "markdown",
      "metadata": {},
      "source": [
        "<img src='images/k-means1.png'><img src='images/k-means2.png'>\n",
        "\n",
        "###### .................................<군집화 전 데이터 포인트들>.............................................................<군집수를 3개로 정하고 랜덤하게 군집 중심들 배치>"
      ]
    },
    {
      "attachments": {},
      "cell_type": "markdown",
      "metadata": {},
      "source": [
        "2.데이터 포인트들과 Centroid들 간 유클리드 거리를 계산하며 Centroid들의 위치를 계속 수정한다. \n",
        "- 각각의 데이터 포인트와 Centroid 간 유클리드 거리를 계산한다.\n",
        "-  가장 짧은 거리의 Centroid로 데이터 포인트를 할당한다."
      ]
    },
    {
      "attachments": {},
      "cell_type": "markdown",
      "metadata": {},
      "source": [
        "<img src='images/k-means3.png'>\n",
        "\n",
        "###### ....<모든 데이터 포인트들을 가까운 군집(클러스터)에 할당>"
      ]
    },
    {
      "attachments": {},
      "cell_type": "markdown",
      "metadata": {},
      "source": [
        "- 데이터 포인트들의 배정이 끝난 후, Centroid들을 배정된 데이터 포인트의 평균값으로 이동시킨다."
      ]
    },
    {
      "attachments": {},
      "cell_type": "markdown",
      "metadata": {},
      "source": [
        "<img src='images/k-means4.png'>\n",
        "\n",
        "###### .....................................<Centroid 위치 변경 전>...................................................................<데이터 포인트들의 평균 값으로 Centroid 위치 변경 후>"
      ]
    },
    {
      "attachments": {},
      "cell_type": "markdown",
      "metadata": {},
      "source": [
        "- Centroid들이 더 이상 움직이지 않을 때까지 반복한다."
      ]
    },
    {
      "attachments": {},
      "cell_type": "markdown",
      "metadata": {},
      "source": [
        "<img src='images/k-means5.png'><img src='images/k-means6.png'>\n",
        "\n",
        "###### ....<변경된 Centroid 위치로 다시 거리를 계산하여 클러스터에 할당>.........................<Centroid 위치가 변경되지 않을 때까지 반복>"
      ]
    },
    {
      "attachments": {},
      "cell_type": "markdown",
      "metadata": {},
      "source": [
        "  ###### * 출처 : https://studying-haeung.tistory.com/6"
      ]
    },
    {
      "attachments": {},
      "cell_type": "markdown",
      "metadata": {
        "id": "SvWrjSWyFkwy"
      },
      "source": [
        "#### 1) 클러스터 3개"
      ]
    },
    {
      "attachments": {},
      "cell_type": "markdown",
      "metadata": {},
      "source": [
        "##### ① KMeans 객체 생성"
      ]
    },
    {
      "cell_type": "code",
      "execution_count": null,
      "metadata": {
        "id": "RgihAL89c3Wx"
      },
      "outputs": [],
      "source": []
    },
    {
      "cell_type": "code",
      "execution_count": null,
      "metadata": {},
      "outputs": [],
      "source": []
    },
    {
      "attachments": {},
      "cell_type": "markdown",
      "metadata": {},
      "source": [
        "##### ② 어떤 클러스트에 속하는지 클러스터 인덱스 번호 출력"
      ]
    },
    {
      "cell_type": "code",
      "execution_count": null,
      "metadata": {},
      "outputs": [],
      "source": []
    },
    {
      "attachments": {},
      "cell_type": "markdown",
      "metadata": {},
      "source": [
        "##### ③ 데이터 프레임으로 변환"
      ]
    },
    {
      "cell_type": "code",
      "execution_count": null,
      "metadata": {
        "id": "-ns_fXaVoaaW"
      },
      "outputs": [],
      "source": []
    },
    {
      "attachments": {},
      "cell_type": "markdown",
      "metadata": {},
      "source": [
        "##### ④ 시각화"
      ]
    },
    {
      "cell_type": "code",
      "execution_count": null,
      "metadata": {
        "id": "R2E76_Kgocpf"
      },
      "outputs": [],
      "source": []
    },
    {
      "attachments": {},
      "cell_type": "markdown",
      "metadata": {
        "id": "52uUi_HOFqf5"
      },
      "source": [
        "#### 2) 클러스터 6개"
      ]
    },
    {
      "attachments": {},
      "cell_type": "markdown",
      "metadata": {},
      "source": [
        "##### ① KMeans 객체 생성"
      ]
    },
    {
      "cell_type": "code",
      "execution_count": null,
      "metadata": {
        "id": "UT86aH3GFcZR"
      },
      "outputs": [],
      "source": [
        "kmeans = KMeans(n_clusters=6, n_init=10)"
      ]
    },
    {
      "attachments": {},
      "cell_type": "markdown",
      "metadata": {},
      "source": [
        "##### ② 어떤 클러스트에 속하는지 클러스터 인덱스 번호 출력"
      ]
    },
    {
      "cell_type": "code",
      "execution_count": null,
      "metadata": {},
      "outputs": [],
      "source": [
        "predict = kmeans.fit_predict(df)\n",
        "print(predict )"
      ]
    },
    {
      "attachments": {},
      "cell_type": "markdown",
      "metadata": {},
      "source": [
        "##### ③ 데이터 프레임으로 변환"
      ]
    },
    {
      "cell_type": "code",
      "execution_count": null,
      "metadata": {
        "id": "-ns_fXaVoaaW"
      },
      "outputs": [],
      "source": [
        "results = df\n",
        "results['predict'] = predict\n",
        "results[0:10]"
      ]
    },
    {
      "attachments": {},
      "cell_type": "markdown",
      "metadata": {},
      "source": [
        "##### ④ 시각화"
      ]
    },
    {
      "cell_type": "code",
      "execution_count": null,
      "metadata": {
        "id": "FMq-oMFiFceO"
      },
      "outputs": [],
      "source": [
        "map = sns.lmplot(x='x', y='y', data = results, fit_reg = False, hue = \"predict\")\n",
        "map.figure.set_size_inches(10, 7)\n",
        "plt.show()"
      ]
    }
  ],
  "metadata": {
    "colab": {
      "provenance": []
    },
    "kernelspec": {
      "display_name": "Python 3.9.10 64-bit",
      "language": "python",
      "name": "python3"
    },
    "language_info": {
      "codemirror_mode": {
        "name": "ipython",
        "version": 3
      },
      "file_extension": ".py",
      "mimetype": "text/x-python",
      "name": "python",
      "nbconvert_exporter": "python",
      "pygments_lexer": "ipython3",
      "version": "3.9.10"
    },
    "vscode": {
      "interpreter": {
        "hash": "a86e7cc0d3fd2b3984d90a12bd1fbcf5461ee2e2e08ec83f39bc9fc9adb9109f"
      }
    }
  },
  "nbformat": 4,
  "nbformat_minor": 0
}
