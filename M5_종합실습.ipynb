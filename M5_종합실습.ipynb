{
 "cells": [
  {
   "attachments": {},
   "cell_type": "markdown",
   "metadata": {},
   "source": [
    "## <b>M5_종합실습</b>"
   ]
  },
  {
   "attachments": {},
   "cell_type": "markdown",
   "metadata": {},
   "source": [
    "### 1.정형 데이터 분석"
   ]
  },
  {
   "attachments": {},
   "cell_type": "markdown",
   "metadata": {},
   "source": [
    "- csv 데이터 불러오기 : 환경부 국가미세먼지정보센터_대기배출원조사 결과_20201231.csv"
   ]
  },
  {
   "cell_type": "code",
   "execution_count": null,
   "metadata": {},
   "outputs": [],
   "source": [
    "import pandas as pd\n",
    "\n",
    "df = pd.read_csv('data_set/환경부 국가미세먼지정보센터_대기배출원조사 결과_20201231.csv', encoding='euc-kr')\n",
    "df"
   ]
  },
  {
   "cell_type": "code",
   "execution_count": null,
   "metadata": {},
   "outputs": [],
   "source": [
    "df.info()"
   ]
  },
  {
   "attachments": {},
   "cell_type": "markdown",
   "metadata": {},
   "source": [
    "- 컬럼 추가하고 계산하기"
   ]
  },
  {
   "cell_type": "code",
   "execution_count": null,
   "metadata": {},
   "outputs": [],
   "source": [
    "df['평균'] = df.mean(axis=1, numeric_only=True) #axis=1 : 행단위로 평균을 구하라\n",
    "df['합계'] = df.sum(axis=1, numeric_only=True)"
   ]
  },
  {
   "cell_type": "code",
   "execution_count": null,
   "metadata": {},
   "outputs": [],
   "source": [
    "df"
   ]
  },
  {
   "cell_type": "code",
   "execution_count": null,
   "metadata": {},
   "outputs": [],
   "source": [
    "df['사업장평균'] = df.iloc[:,2:5].mean(axis=1, numeric_only=True)"
   ]
  },
  {
   "cell_type": "code",
   "execution_count": null,
   "metadata": {},
   "outputs": [],
   "source": [
    "df"
   ]
  },
  {
   "attachments": {},
   "cell_type": "markdown",
   "metadata": {},
   "source": [
    "- 데이터 프레임을 이미지로 내보내기"
   ]
  },
  {
   "cell_type": "code",
   "execution_count": null,
   "metadata": {},
   "outputs": [],
   "source": [
    "import dataframe_image as dfi\n",
    "dfi.export(df, 'mean_sum.png', max_rows=10, max_cols=-1)"
   ]
  },
  {
   "cell_type": "code",
   "execution_count": null,
   "metadata": {},
   "outputs": [],
   "source": []
  },
  {
   "attachments": {},
   "cell_type": "markdown",
   "metadata": {},
   "source": [
    "### 2.웹 데이터 추출"
   ]
  },
  {
   "cell_type": "code",
   "execution_count": null,
   "metadata": {},
   "outputs": [],
   "source": [
    "from selenium import webdriver\n",
    "from selenium.webdriver.common.by import By"
   ]
  },
  {
   "attachments": {},
   "cell_type": "markdown",
   "metadata": {},
   "source": [
    "- 대한민국헌법(1장~10장, 부칙) 텍스트 데이터 가져오기 "
   ]
  },
  {
   "cell_type": "code",
   "execution_count": null,
   "metadata": {},
   "outputs": [],
   "source": [
    "url = 'https://www.law.go.kr/LSW/lsInfoP.do?efYd=19880225&lsiSeq=61603#0000'\n",
    "\n",
    "driver = webdriver.Chrome()\n",
    "driver.get(url)\n",
    "driver.implicitly_wait(10)"
   ]
  },
  {
   "cell_type": "code",
   "execution_count": null,
   "metadata": {},
   "outputs": [],
   "source": [
    "law_text = driver.find_element(By.XPATH, '//*[@id=\"conScroll\"]').text\n",
    "driver.quit()"
   ]
  },
  {
   "attachments": {},
   "cell_type": "markdown",
   "metadata": {},
   "source": [
    "### 3.텍스트 분석(빈도 분석)"
   ]
  },
  {
   "attachments": {},
   "cell_type": "markdown",
   "metadata": {},
   "source": [
    "- 형태소 분석"
   ]
  },
  {
   "cell_type": "code",
   "execution_count": null,
   "metadata": {},
   "outputs": [],
   "source": [
    "from kiwipiepy import Kiwi\n",
    "from kiwipiepy.utils import Stopwords\n",
    "\n",
    "kiwi = Kiwi()\n",
    "stopwords = Stopwords()\n",
    "\n",
    "tokens = kiwi.tokenize(law_text, stopwords=stopwords)\n",
    "print(tokens[1000:1001])"
   ]
  },
  {
   "attachments": {},
   "cell_type": "markdown",
   "metadata": {},
   "source": [
    "- 단어만 추출"
   ]
  },
  {
   "cell_type": "code",
   "execution_count": null,
   "metadata": {},
   "outputs": [],
   "source": [
    "token_text = []\n",
    "\n",
    "for token in tokens:\n",
    "    token_text.append(token.form)\n",
    "\n",
    "print(token_text[:100])"
   ]
  },
  {
   "attachments": {},
   "cell_type": "markdown",
   "metadata": {},
   "source": [
    "- 단어 빈도수 측정"
   ]
  },
  {
   "cell_type": "code",
   "execution_count": null,
   "metadata": {
    "id": "2nnOU6NDTWM9"
   },
   "outputs": [],
   "source": [
    "from collections import Counter"
   ]
  },
  {
   "cell_type": "code",
   "execution_count": null,
   "metadata": {},
   "outputs": [],
   "source": [
    "c = Counter(token_text)\n",
    "c"
   ]
  },
  {
   "cell_type": "code",
   "execution_count": null,
   "metadata": {},
   "outputs": [],
   "source": [
    "top_c = c.most_common(10)"
   ]
  },
  {
   "cell_type": "code",
   "execution_count": null,
   "metadata": {},
   "outputs": [],
   "source": [
    "top_c = dict(top_c)"
   ]
  },
  {
   "cell_type": "code",
   "execution_count": null,
   "metadata": {},
   "outputs": [],
   "source": [
    "top_c"
   ]
  },
  {
   "attachments": {},
   "cell_type": "markdown",
   "metadata": {
    "id": "t6w6mEQ_Aamt"
   },
   "source": [
    "- 단어 빈도 시각화(그래프)"
   ]
  },
  {
   "cell_type": "code",
   "execution_count": null,
   "metadata": {
    "id": "pDd_QGuRmGe5"
   },
   "outputs": [],
   "source": [
    "import matplotlib as mpl\n",
    "import matplotlib.pyplot as plt\n",
    "from matplotlib import font_manager as fm"
   ]
  },
  {
   "cell_type": "code",
   "execution_count": null,
   "metadata": {},
   "outputs": [],
   "source": [
    "plt.style.use('bmh')"
   ]
  },
  {
   "attachments": {},
   "cell_type": "markdown",
   "metadata": {},
   "source": [
    "- 폰트 매니저에서 관리하는 폰트 확인"
   ]
  },
  {
   "cell_type": "code",
   "execution_count": null,
   "metadata": {},
   "outputs": [],
   "source": []
  },
  {
   "attachments": {},
   "cell_type": "markdown",
   "metadata": {},
   "source": [
    "- 폰트 설정"
   ]
  },
  {
   "cell_type": "code",
   "execution_count": null,
   "metadata": {},
   "outputs": [],
   "source": [
    "plt.rc('font', family='Gulim', size=7)"
   ]
  },
  {
   "attachments": {},
   "cell_type": "markdown",
   "metadata": {},
   "source": [
    "- 세로 막대 그래프 그리기"
   ]
  },
  {
   "cell_type": "code",
   "execution_count": null,
   "metadata": {
    "id": "rEP8sDZuAbC9"
   },
   "outputs": [],
   "source": [
    "plt.figure(figsize=(7, 5))\n",
    "plt.bar(top_c.keys(), top_c.values())\n",
    "plt.title('법률용어 빈도수')\n",
    "plt.savefig('law_top10.png')\n",
    "plt.show();"
   ]
  },
  {
   "cell_type": "code",
   "execution_count": null,
   "metadata": {},
   "outputs": [],
   "source": []
  },
  {
   "cell_type": "code",
   "execution_count": null,
   "metadata": {},
   "outputs": [],
   "source": []
  },
  {
   "cell_type": "code",
   "execution_count": null,
   "metadata": {},
   "outputs": [],
   "source": []
  },
  {
   "attachments": {},
   "cell_type": "markdown",
   "metadata": {},
   "source": [
    "### 4.EP 메일 보내기"
   ]
  },
  {
   "attachments": {},
   "cell_type": "markdown",
   "metadata": {},
   "source": [
    "- EP 로그인 정보 입력(ID, PASS)"
   ]
  },
  {
   "cell_type": "code",
   "execution_count": null,
   "metadata": {},
   "outputs": [],
   "source": [
    "import pyautogui as pg\n",
    "from selenium.webdriver.common.keys import Keys\n",
    "import clipboard as cb"
   ]
  },
  {
   "cell_type": "code",
   "execution_count": null,
   "metadata": {},
   "outputs": [],
   "source": [
    "my_id = 'yooleenes'\n",
    "my_pw = pg.password(text='비밀번호를 입력하세요')"
   ]
  },
  {
   "attachments": {},
   "cell_type": "markdown",
   "metadata": {},
   "source": [
    "- EP 접속"
   ]
  },
  {
   "cell_type": "code",
   "execution_count": null,
   "metadata": {},
   "outputs": [],
   "source": [
    "url = 'http://swpsso.posco.net/idms/U61/jsp/login/login.jsp'\n",
    "\n",
    "driver = webdriver.Edge()\n",
    "driver.get(url)\n",
    "driver.implicitly_wait(10)"
   ]
  },
  {
   "cell_type": "code",
   "execution_count": null,
   "metadata": {},
   "outputs": [],
   "source": [
    "driver.find_element(By.XPATH, '//*[@id=\"username\"]').send_keys(my_id)\n",
    "driver.find_element(By.XPATH, '//*[@id=\"password\"]').send_keys(my_pw)\n",
    "driver.find_element(By.XPATH, '//*[@id=\"loginsubmit\"]').click()\n",
    "\n",
    "pg.sleep(5)\n",
    "try:\n",
    "    alert = driver.switch_to.alert\n",
    "    alert.accept()\n",
    "except: print('계속 진행합니다.')\n",
    "pg.sleep(15)"
   ]
  },
  {
   "attachments": {},
   "cell_type": "markdown",
   "metadata": {},
   "source": [
    "- 메일 화면 열기"
   ]
  },
  {
   "cell_type": "code",
   "execution_count": null,
   "metadata": {},
   "outputs": [],
   "source": [
    "driver.switch_to.window(driver.window_handles[-1])\n",
    "driver.find_element(By.XPATH, '//*[@id=\"533982\"]/a[1]/span[1]/img').click()\n",
    "pg.sleep(3)"
   ]
  },
  {
   "attachments": {},
   "cell_type": "markdown",
   "metadata": {},
   "source": [
    "- 메일 쓰기 화면 열기"
   ]
  },
  {
   "cell_type": "code",
   "execution_count": null,
   "metadata": {},
   "outputs": [],
   "source": [
    "driver.switch_to.window(driver.window_handles[-1])\n",
    "driver.find_element(By.XPATH, '//*[@id=\"Lnb\"]/div[1]/a').click()\n",
    "pg.sleep(3)"
   ]
  },
  {
   "attachments": {},
   "cell_type": "markdown",
   "metadata": {},
   "source": [
    "- 메일 정보, 본문 내용 입력"
   ]
  },
  {
   "cell_type": "code",
   "execution_count": null,
   "metadata": {},
   "outputs": [],
   "source": [
    "mail_add = 'yooleenes@poscohrd.com'\n",
    "mail_sub = '테스트 메일입니다.'\n",
    "mail_con1 = '안녕하세요.ㅇㅇㅇㅇㅇㅇ'\n",
    "mail_con2 = '환경부 대기정보 표입니다'\n",
    "mail_con3 = '헌법 키워드 분석 그리프입니다.'"
   ]
  },
  {
   "attachments": {},
   "cell_type": "markdown",
   "metadata": {},
   "source": [
    "- 메일 주소 입력"
   ]
  },
  {
   "cell_type": "code",
   "execution_count": null,
   "metadata": {},
   "outputs": [],
   "source": [
    "driver.switch_to.window(driver.window_handles[-1])\n",
    "driver.find_element(By.XPATH, '//*[@id=\"token-input-send_to\"]').send_keys(mail_add)\n",
    "driver.find_element(By.XPATH, '//*[@id=\"token-input-send_to\"]').send_keys(Keys.ENTER)\n",
    "pg.sleep(3)"
   ]
  },
  {
   "attachments": {},
   "cell_type": "markdown",
   "metadata": {},
   "source": [
    "- 메일 제목 입력"
   ]
  },
  {
   "cell_type": "code",
   "execution_count": null,
   "metadata": {},
   "outputs": [],
   "source": [
    "driver.find_element(By.XPATH, '//*[@id=\"write_send_info\"]/table[2]/tbody/tr[1]/td/input').send_keys(mail_sub)"
   ]
  },
  {
   "attachments": {},
   "cell_type": "markdown",
   "metadata": {},
   "source": [
    "- 메일 본문 입력(기본 문구)"
   ]
  },
  {
   "cell_type": "code",
   "execution_count": null,
   "metadata": {},
   "outputs": [],
   "source": [
    "driver.switch_to.frame('dext_frame_WEC')\n",
    "driver.switch_to.frame('dext5_design_WEC')\n",
    "driver.find_element(By.XPATH,'//*[@id=\"dext_body\"]/p[1]').send_keys(Keys.ENTER)\n",
    "pg.sleep(1)\n",
    "driver.find_element(By.XPATH,'//*[@id=\"dext_body\"]/p[1]/br').send_keys(mail_con1)\n",
    "driver.find_element(By.XPATH,'//*[@id=\"dext_body\"]/p[1]/br').send_keys(Keys.ENTER)\n",
    "driver.find_element(By.XPATH,'//*[@id=\"dext_body\"]/p[1]/br').send_keys(Keys.ENTER)"
   ]
  },
  {
   "attachments": {},
   "cell_type": "markdown",
   "metadata": {},
   "source": [
    "- 메일 본문 입력(정형 데이터)"
   ]
  },
  {
   "cell_type": "code",
   "execution_count": null,
   "metadata": {},
   "outputs": [],
   "source": [
    "driver.find_element(By.XPATH,'//*[@id=\"dext_body\"]/p[1]/br').send_keys(mail_con2)"
   ]
  },
  {
   "attachments": {},
   "cell_type": "markdown",
   "metadata": {},
   "source": [
    "- 이미지 복사(정형 데이터 테이블)"
   ]
  },
  {
   "cell_type": "code",
   "execution_count": null,
   "metadata": {},
   "outputs": [],
   "source": [
    "pg.hotkey('win','r')\n",
    "cb.copy('D:\\작업방\\Level2_office\\mean_sum.png')\n",
    "pg.sleep(0.5)\n",
    "pg.hotkey('ctrl','v')\n",
    "pg.sleep(0.5)\n",
    "pg.press('enter')\n",
    "pg.sleep(15)\n",
    "\n",
    "win = pg.getWindowsWithTitle('사진')[0]\n",
    "win.activate()\n",
    "\n",
    "pg.hotkey('ctrl','c')"
   ]
  },
  {
   "attachments": {},
   "cell_type": "markdown",
   "metadata": {},
   "source": [
    "- 이미지 붙여넣기(정형 데이터 테이블)"
   ]
  },
  {
   "cell_type": "code",
   "execution_count": null,
   "metadata": {},
   "outputs": [],
   "source": [
    "win = pg.getWindowsWithTitle('메일쓰기')[0]\n",
    "win.activate()\n",
    "\n",
    "pg.press('enter', presses=2)\n",
    "pg.hotkey('ctrl','v')\n",
    "pg.sleep(1)\n",
    "pg.press('tab', presses=5, interval=0.2)\n",
    "pg.write('1200') #이미지 크기 설정\n",
    "pg.press('tab', presses=5, interval=0.2)\n",
    "pg.press('enter')\n",
    "\n",
    "pg.press('enter')"
   ]
  },
  {
   "attachments": {},
   "cell_type": "markdown",
   "metadata": {},
   "source": [
    "- 메일 본문 입력(비정형 데이터)"
   ]
  },
  {
   "cell_type": "code",
   "execution_count": null,
   "metadata": {},
   "outputs": [],
   "source": [
    "driver.find_element(By.XPATH,'//*[@id=\"dext_body\"]/p[6]').send_keys(mail_con3)\n",
    "\n"
   ]
  },
  {
   "attachments": {},
   "cell_type": "markdown",
   "metadata": {},
   "source": [
    "- 이미지 복사(비정형 데이터 그래프)"
   ]
  },
  {
   "cell_type": "code",
   "execution_count": null,
   "metadata": {},
   "outputs": [],
   "source": [
    "pg.hotkey('win','r')\n",
    "cb.copy('D:\\작업방\\Level2_office\\law_top10.png')\n",
    "pg.sleep(0.5)\n",
    "pg.hotkey('ctrl','v')\n",
    "pg.sleep(0.5)\n",
    "pg.press('enter')\n",
    "pg.sleep(15)\n",
    "\n",
    "win = pg.getWindowsWithTitle('사진')[0]\n",
    "win.activate()\n",
    "\n",
    "pg.hotkey('ctrl','c')"
   ]
  },
  {
   "attachments": {},
   "cell_type": "markdown",
   "metadata": {},
   "source": [
    "- 이미지 붙여넣기(비정형 데이터 그래프)"
   ]
  },
  {
   "cell_type": "code",
   "execution_count": null,
   "metadata": {},
   "outputs": [],
   "source": [
    "win = pg.getWindowsWithTitle('메일쓰기')[0]\n",
    "win.activate()\n",
    "\n",
    "pg.press('enter', presses=2)\n",
    "pg.hotkey('ctrl','v')\n",
    "pg.sleep(1)\n",
    "pg.press('tab', presses=5, interval=0.2)\n",
    "pg.write('800') #이미지 크기 설정\n",
    "pg.press('tab', presses=5, interval=0.2)\n",
    "pg.press('enter')"
   ]
  },
  {
   "attachments": {},
   "cell_type": "markdown",
   "metadata": {},
   "source": [
    "- 본문 작성 완료"
   ]
  },
  {
   "cell_type": "code",
   "execution_count": null,
   "metadata": {},
   "outputs": [],
   "source": [
    "driver.switch_to.default_content()"
   ]
  },
  {
   "attachments": {},
   "cell_type": "markdown",
   "metadata": {},
   "source": [
    "- 보내기"
   ]
  },
  {
   "cell_type": "code",
   "execution_count": null,
   "metadata": {},
   "outputs": [],
   "source": [
    "driver.find_element(By.XPATH,'//*[@id=\"memo_content\"]/div[1]/ul[1]/li[1]/a').click()\n",
    "pg.sleep(5)\n",
    "try:\n",
    "    alert = driver.switch_to.alert\n",
    "    alert.accept()\n",
    "except: print('계속 진행합니다.')\n",
    "pg.sleep(3)"
   ]
  },
  {
   "attachments": {},
   "cell_type": "markdown",
   "metadata": {},
   "source": [
    "---------------"
   ]
  },
  {
   "cell_type": "code",
   "execution_count": null,
   "metadata": {},
   "outputs": [],
   "source": [
    "url = 'https://www.poswel.co.kr'\n",
    "driver = webdriver.Chrome()\n",
    "driver.get(url)"
   ]
  },
  {
   "cell_type": "code",
   "execution_count": null,
   "metadata": {},
   "outputs": [],
   "source": [
    "text_xpath = '//*[@id=\"ctt\"]'\n",
    "text = driver.find_element(By.XPATH, text_xpath).text\n",
    "text"
   ]
  },
  {
   "cell_type": "code",
   "execution_count": null,
   "metadata": {},
   "outputs": [],
   "source": [
    "len(text)"
   ]
  },
  {
   "cell_type": "code",
   "execution_count": null,
   "metadata": {},
   "outputs": [],
   "source": [
    "a = '포스웰 임직원 여러분!\\n잘 알고 있는 바와 같이 윤리경영은 기업의 이익을 가져다 주는 경쟁력의 원천이며 기업 이미지 제고의 수단이기도 합니다. \\n이 어려운 시기에 우리 포스웰 구성원 각자가 투철한 윤리의식을 바탕으로 투명하고 올바른 처신을 하는 것이 회사의\\n장기적인 성장, 발전에 매우 중요하다는 점을 강조하고 싶습니다.\\n그 동안 우리는 디지털 시대에 걸맞은 새로운 시스템 구축을 위해 ERP 시스템을 도입하고 투명경영을 실현하기 위한 제도개혁을\\n추진하여 왔으며, 구성원 모두가 업무수행 및 일상생활에서 지키고 따라야 할 윤리규범을 2003년 8월26일 선포하였습니다.\\n그러나, 윤리경영의 실현은 시스템이나 제도를 갖추고 윤리규범을 제정하였다고 해서 저절로  이루어지는 것이 아니라\\n우리 모두가 최선을 다해 실천을 할 때 비로소 가능할 것입니다.\\n 이제 기업의 윤리경영은 우리가 회피하고 유예할 수 있는 대상이 아니라 적극적이고 능동적으로 실천해야 할 과제입니다.\\n따라서, 포스웰 임직원으로서 반드시 지켜야 할 윤리규범을 실천하여 윤리규범이 형식에 그치지 않고 내실 있게 실천될 수 있도록\\n여러분의 적극적인 협조를 당부 드립니다.\\n 아울러, 윤리와 이익이 상충될 때 이익보다는 윤리를 택하는 것이 포스웰의 경영철학임을 명심하고 윤리를 항상 모든 판단과 행동의\\n최우선 기준으로 삼아야 하겠습니다.\\n 금품수수, 횡령, 성희롱, 정보조작의 4대 비윤리행위에 대해서는 무관용의 원칙을 철저히 지켜나갈것입니다.\\n 임직원 여러분! 윤리적 기업문화를 확고히 정착시켜 고객이 가장 거래하고 싶은 기업, 투명하고 신뢰할 수 있는 기업,\\n직원들이 행복하게 일하는 일터를 조성함으로써 모든 이해관계자와 동반성장하고 발전하는 포스웰을 만들어 갑시다.\\n'"
   ]
  },
  {
   "cell_type": "code",
   "execution_count": null,
   "metadata": {},
   "outputs": [],
   "source": [
    "len(a)"
   ]
  },
  {
   "cell_type": "code",
   "execution_count": null,
   "metadata": {},
   "outputs": [],
   "source": [
    "url = 'https://news.naver.com/main/main.naver?mode=LSD&mid=shm&sid1=101'\n",
    "driver = webdriver.Chrome()\n",
    "driver.get(url)"
   ]
  },
  {
   "cell_type": "code",
   "execution_count": null,
   "metadata": {},
   "outputs": [],
   "source": [
    "from bs4 import BeautifulSoup as bs4\n",
    "soup = bs4(driver.page_source, 'html.parser')"
   ]
  },
  {
   "cell_type": "code",
   "execution_count": null,
   "metadata": {},
   "outputs": [],
   "source": [
    "soup"
   ]
  },
  {
   "cell_type": "code",
   "execution_count": null,
   "metadata": {},
   "outputs": [],
   "source": [
    "list = '#_rankingList0 .list_text_inner > a'\n",
    "text = soup.select(list)\n",
    "text"
   ]
  },
  {
   "cell_type": "code",
   "execution_count": null,
   "metadata": {},
   "outputs": [],
   "source": [
    "title = []\n",
    "for t in text:\n",
    "    title.append(t.text)\n",
    "print(title)"
   ]
  },
  {
   "cell_type": "code",
   "execution_count": null,
   "metadata": {},
   "outputs": [],
   "source": [
    "title = []\n",
    "for i, t in enumerate(text):\n",
    "    if i%2 == 0: title.append(t.text)\n",
    "print(title)"
   ]
  },
  {
   "cell_type": "code",
   "execution_count": null,
   "metadata": {},
   "outputs": [],
   "source": [
    "list = \"#_rankingList0 .list_tit\"\n",
    "text = soup.select(list)\n",
    "text"
   ]
  },
  {
   "cell_type": "code",
   "execution_count": null,
   "metadata": {},
   "outputs": [],
   "source": [
    "title = []\n",
    "for t in text:\n",
    "    title.append(t.text)\n",
    "print(title)"
   ]
  },
  {
   "cell_type": "code",
   "execution_count": null,
   "metadata": {},
   "outputs": [],
   "source": [
    "url = 'https://www.data.go.kr/data/15016241/fileData.do'\n",
    "driver = webdriver.Chrome()\n",
    "driver.get(url)"
   ]
  },
  {
   "cell_type": "code",
   "execution_count": null,
   "metadata": {},
   "outputs": [],
   "source": [
    "soup = bs4(driver.page_source, 'html.parser')\n",
    "soup"
   ]
  },
  {
   "cell_type": "code",
   "execution_count": null,
   "metadata": {},
   "outputs": [],
   "source": [
    "table_select = '.fileDataDetail.table'\n",
    "table_html = soup.select(table_select)\n",
    "table_html"
   ]
  },
  {
   "cell_type": "code",
   "execution_count": null,
   "metadata": {},
   "outputs": [],
   "source": [
    "type(table_html)"
   ]
  },
  {
   "cell_type": "code",
   "execution_count": null,
   "metadata": {},
   "outputs": [],
   "source": [
    "import pandas\n",
    "\n",
    "table_list = pd.read_html(str(table_html))\n",
    "table_list"
   ]
  },
  {
   "cell_type": "code",
   "execution_count": null,
   "metadata": {},
   "outputs": [],
   "source": [
    "type(table_list)"
   ]
  },
  {
   "cell_type": "code",
   "execution_count": null,
   "metadata": {},
   "outputs": [],
   "source": [
    "df = table_list[0]\n",
    "df"
   ]
  },
  {
   "cell_type": "code",
   "execution_count": null,
   "metadata": {},
   "outputs": [],
   "source": [
    "df = df.rename(columns=df.iloc[0])\n",
    "df"
   ]
  },
  {
   "cell_type": "code",
   "execution_count": null,
   "metadata": {},
   "outputs": [],
   "source": [
    "df.drop([0], axis=0, inplace=True)"
   ]
  },
  {
   "cell_type": "code",
   "execution_count": null,
   "metadata": {},
   "outputs": [],
   "source": [
    "df"
   ]
  }
 ],
 "metadata": {
  "kernelspec": {
   "display_name": "Python 3.9.10 64-bit",
   "language": "python",
   "name": "python3"
  },
  "language_info": {
   "codemirror_mode": {
    "name": "ipython",
    "version": 3
   },
   "file_extension": ".py",
   "mimetype": "text/x-python",
   "name": "python",
   "nbconvert_exporter": "python",
   "pygments_lexer": "ipython3",
   "version": "3.9.10"
  },
  "orig_nbformat": 4,
  "vscode": {
   "interpreter": {
    "hash": "a86e7cc0d3fd2b3984d90a12bd1fbcf5461ee2e2e08ec83f39bc9fc9adb9109f"
   }
  }
 },
 "nbformat": 4,
 "nbformat_minor": 2
}
