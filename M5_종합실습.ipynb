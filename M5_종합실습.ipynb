{
 "cells": [
  {
   "attachments": {},
   "cell_type": "markdown",
   "metadata": {},
   "source": [
    "## <b>M5_종합실습</b>"
   ]
  },
  {
   "attachments": {},
   "cell_type": "markdown",
   "metadata": {},
   "source": [
    "### 1.정형 데이터 분석"
   ]
  },
  {
   "attachments": {},
   "cell_type": "markdown",
   "metadata": {},
   "source": [
    "- csv 데이터 불러오기 : 환경부 국가미세먼지정보센터_대기배출원조사 결과_20201231.csv"
   ]
  },
  {
   "cell_type": "code",
   "execution_count": null,
   "metadata": {},
   "outputs": [],
   "source": [
    "import pandas as pd\n",
    "\n",
    "df = pd.read_csv('data_set/환경부 국가미세먼지정보센터_대기배출원조사 결과_20201231.csv', encoding='euc-kr')\n",
    "df"
   ]
  },
  {
   "cell_type": "code",
   "execution_count": null,
   "metadata": {},
   "outputs": [],
   "source": [
    "data = open('data_set/환경부 국가미세먼지정보센터_대기배출원조사 결과_20201231.csv', 'rb').readline()\n",
    "data"
   ]
  },
  {
   "cell_type": "code",
   "execution_count": null,
   "metadata": {},
   "outputs": [],
   "source": [
    "import chardet\n",
    "data = open('data_set/환경부 국가미세먼지정보센터_대기배출원조사 결과_20201231.csv', 'rb').readline()\n",
    "result = chardet.detect(data)\n",
    "print(result['encoding'])"
   ]
  },
  {
   "attachments": {},
   "cell_type": "markdown",
   "metadata": {},
   "source": [
    "- 컬럼 추가하고 계산하기"
   ]
  },
  {
   "cell_type": "code",
   "execution_count": null,
   "metadata": {},
   "outputs": [],
   "source": [
    "df['평균'] = df.mean(axis=1, numeric_only=True)"
   ]
  },
  {
   "cell_type": "code",
   "execution_count": null,
   "metadata": {},
   "outputs": [],
   "source": [
    "df['합계'] = df.sum(axis=1, numeric_only=True)"
   ]
  },
  {
   "cell_type": "code",
   "execution_count": null,
   "metadata": {},
   "outputs": [],
   "source": [
    "df['사업장평균'] = df.iloc[:,2:5].mean(axis=1, numeric_only=True)"
   ]
  },
  {
   "cell_type": "code",
   "execution_count": null,
   "metadata": {},
   "outputs": [],
   "source": [
    "df"
   ]
  },
  {
   "attachments": {},
   "cell_type": "markdown",
   "metadata": {},
   "source": [
    "- 데이터 프레임을 이미지로 내보내기"
   ]
  },
  {
   "cell_type": "code",
   "execution_count": null,
   "metadata": {},
   "outputs": [],
   "source": [
    "import dataframe_image as dfi\n",
    "dfi.export(df, 'mean.png', max_rows=-1, max_cols=-1)"
   ]
  },
  {
   "cell_type": "code",
   "execution_count": null,
   "metadata": {},
   "outputs": [],
   "source": [
    "df.to_clipboard()"
   ]
  },
  {
   "attachments": {},
   "cell_type": "markdown",
   "metadata": {},
   "source": [
    "### 2.웹 데이터 추출"
   ]
  },
  {
   "cell_type": "code",
   "execution_count": null,
   "metadata": {},
   "outputs": [],
   "source": [
    "from selenium import webdriver\n",
    "from selenium.webdriver.common.by import By"
   ]
  },
  {
   "attachments": {},
   "cell_type": "markdown",
   "metadata": {},
   "source": [
    "- 대한민국헌법(1장~10장, 부칙) 텍스트 데이터 가져오기 "
   ]
  },
  {
   "cell_type": "code",
   "execution_count": null,
   "metadata": {},
   "outputs": [],
   "source": [
    "url = 'https://www.law.go.kr/LSW/lsInfoP.do?efYd=19880225&lsiSeq=61603#0000'\n",
    "driver = webdriver.Chrome()\n",
    "driver.get(url)"
   ]
  },
  {
   "cell_type": "code",
   "execution_count": null,
   "metadata": {},
   "outputs": [],
   "source": [
    "law_text = driver.find_element(By.XPATH, '//*[@id=\"conScroll\"]').text\n",
    "driver.quit() \n"
   ]
  },
  {
   "cell_type": "code",
   "execution_count": null,
   "metadata": {},
   "outputs": [],
   "source": [
    "driver"
   ]
  },
  {
   "cell_type": "code",
   "execution_count": null,
   "metadata": {},
   "outputs": [],
   "source": [
    "law_text[8000:]"
   ]
  },
  {
   "attachments": {},
   "cell_type": "markdown",
   "metadata": {},
   "source": [
    "### 3.텍스트 분석(빈도 분석)"
   ]
  },
  {
   "attachments": {},
   "cell_type": "markdown",
   "metadata": {},
   "source": [
    "- 형태소 분석"
   ]
  },
  {
   "cell_type": "code",
   "execution_count": null,
   "metadata": {},
   "outputs": [],
   "source": [
    "from kiwipiepy import Kiwi\n",
    "from kiwipiepy.utils import Stopwords\n",
    "\n",
    "kiwi = Kiwi()\n",
    "stopwords = Stopwords()\n",
    "\n",
    "tokens = kiwi.tokenize(law_text, stopwords=stopwords)\n",
    "tokens[:10]"
   ]
  },
  {
   "attachments": {},
   "cell_type": "markdown",
   "metadata": {},
   "source": [
    "- 단어만 추출"
   ]
  },
  {
   "cell_type": "code",
   "execution_count": null,
   "metadata": {},
   "outputs": [],
   "source": [
    "token_text = []\n",
    "\n",
    "for token in tokens:\n",
    "    token_text.append(token.form)\n",
    "\n",
    "token_text"
   ]
  },
  {
   "attachments": {},
   "cell_type": "markdown",
   "metadata": {},
   "source": [
    "- 단어 빈도수 측정"
   ]
  },
  {
   "cell_type": "code",
   "execution_count": null,
   "metadata": {
    "id": "2nnOU6NDTWM9"
   },
   "outputs": [],
   "source": [
    "from collections import Counter"
   ]
  },
  {
   "cell_type": "code",
   "execution_count": null,
   "metadata": {},
   "outputs": [],
   "source": [
    "c = Counter(token_text)\n",
    "c"
   ]
  },
  {
   "cell_type": "code",
   "execution_count": null,
   "metadata": {},
   "outputs": [],
   "source": [
    "top_c = c.most_common(10)\n",
    "top_c"
   ]
  },
  {
   "cell_type": "code",
   "execution_count": null,
   "metadata": {},
   "outputs": [],
   "source": [
    "top_c = dict(top_c)"
   ]
  },
  {
   "cell_type": "code",
   "execution_count": null,
   "metadata": {},
   "outputs": [],
   "source": [
    "top_c"
   ]
  },
  {
   "attachments": {},
   "cell_type": "markdown",
   "metadata": {
    "id": "t6w6mEQ_Aamt"
   },
   "source": [
    "- 단어 빈도 시각화(그래프)"
   ]
  },
  {
   "cell_type": "code",
   "execution_count": null,
   "metadata": {
    "id": "pDd_QGuRmGe5"
   },
   "outputs": [],
   "source": [
    "import matplotlib.pyplot as plt\n",
    "from matplotlib import font_manager as fm\n",
    "import matplotlib as mpl"
   ]
  },
  {
   "cell_type": "code",
   "execution_count": null,
   "metadata": {},
   "outputs": [],
   "source": [
    "plt.style.use('bmh')\n",
    "%config InlineBackend.figure_format = 'retina'"
   ]
  },
  {
   "attachments": {},
   "cell_type": "markdown",
   "metadata": {},
   "source": [
    "- 폰트 매니저에서 관리하는 폰트 확인"
   ]
  },
  {
   "cell_type": "code",
   "execution_count": null,
   "metadata": {},
   "outputs": [],
   "source": [
    "set([f.name for f in mpl.font_manager.fontManager.ttflist]) #set 집합"
   ]
  },
  {
   "attachments": {},
   "cell_type": "markdown",
   "metadata": {},
   "source": [
    "- 폰트 설정"
   ]
  },
  {
   "cell_type": "code",
   "execution_count": null,
   "metadata": {},
   "outputs": [],
   "source": [
    "plt.rc('font', family='Gulim', size=7)"
   ]
  },
  {
   "attachments": {},
   "cell_type": "markdown",
   "metadata": {},
   "source": [
    "- 세로 막대 그래프 그리기"
   ]
  },
  {
   "cell_type": "code",
   "execution_count": null,
   "metadata": {
    "id": "rEP8sDZuAbC9"
   },
   "outputs": [],
   "source": [
    "# import numpy as np\n",
    "\n",
    "# x = np.arange(len(top_c))\n",
    "# x"
   ]
  },
  {
   "cell_type": "code",
   "execution_count": null,
   "metadata": {},
   "outputs": [],
   "source": [
    "plt.figure(figsize=(10, 5))\n",
    "plt.bar(x, top_c.values(), width=0.5, color='red')\n",
    "plt.xticks(x, top_c.keys())\n",
    "plt.show();"
   ]
  },
  {
   "cell_type": "code",
   "execution_count": null,
   "metadata": {},
   "outputs": [],
   "source": [
    "plt.figure(figsize=(10, 5))\n",
    "plt.bar(top_c.keys(), top_c.values(), width=0.5, color='red')\n",
    "plt.savefig('law.png')\n",
    "plt.show();"
   ]
  },
  {
   "cell_type": "code",
   "execution_count": null,
   "metadata": {},
   "outputs": [],
   "source": [
    "plt.savefig('law.png')"
   ]
  },
  {
   "attachments": {},
   "cell_type": "markdown",
   "metadata": {},
   "source": [
    "### 4.EP 메일 보내기"
   ]
  },
  {
   "attachments": {},
   "cell_type": "markdown",
   "metadata": {},
   "source": [
    "- EP 로그인 정보 입력(ID, PASS)"
   ]
  },
  {
   "cell_type": "code",
   "execution_count": null,
   "metadata": {},
   "outputs": [],
   "source": [
    "import pyautogui as pg\n",
    "from selenium.webdriver.common.keys import Keys\n",
    "import clipboard as cb"
   ]
  },
  {
   "cell_type": "code",
   "execution_count": null,
   "metadata": {},
   "outputs": [],
   "source": [
    "my_id = 'yooleenes'\n",
    "my_pw = pg.password(title='EP PASS', text='EP PASS를 입력하세요')"
   ]
  },
  {
   "attachments": {},
   "cell_type": "markdown",
   "metadata": {},
   "source": [
    "- EP 접속"
   ]
  },
  {
   "cell_type": "code",
   "execution_count": null,
   "metadata": {},
   "outputs": [],
   "source": [
    "url = 'http://swpsso.posco.net/idms/U61/jsp/login/login.jsp'\n",
    "\n",
    "driver = webdriver.Edge()\n",
    "driver.get(url)\n",
    "\n",
    "driver.implicitly_wait(10)\n",
    "driver.maximize_window()\n",
    "\n",
    "driver.find_element(By.XPATH,'//*[@id=\"username\"]').send_keys(my_id)\n",
    "driver.find_element(By.XPATH,'//*[@id=\"password\"]').send_keys(my_pw)\n",
    "driver.find_element(By.XPATH,'//*[@id=\"loginsubmit\"]').click()\n",
    "\n",
    "pg.sleep(5)\n",
    "try:\n",
    "    alert = driver.switch_to.alert\n",
    "    alert.accept()\n",
    "except:\n",
    "    print('기존 로그인 창 없음, 계속 진행해라')"
   ]
  },
  {
   "attachments": {},
   "cell_type": "markdown",
   "metadata": {},
   "source": [
    "- 메일 화면 열기"
   ]
  },
  {
   "cell_type": "code",
   "execution_count": null,
   "metadata": {},
   "outputs": [],
   "source": [
    "driver.switch_to.window(driver.window_handles[-1])\n",
    "driver.find_element(By.XPATH, '//*[@id=\"533982\"]/a[1]').click()\n",
    "pg.sleep(3)"
   ]
  },
  {
   "attachments": {},
   "cell_type": "markdown",
   "metadata": {},
   "source": [
    "- 메일 쓰기 화면 열기"
   ]
  },
  {
   "cell_type": "code",
   "execution_count": null,
   "metadata": {},
   "outputs": [],
   "source": [
    "driver.switch_to.window(driver.window_handles[-1])\n",
    "driver.find_element(By.XPATH, '//*[@id=\"Lnb\"]/div[1]/a').click()\n",
    "pg.sleep(3)"
   ]
  },
  {
   "attachments": {},
   "cell_type": "markdown",
   "metadata": {},
   "source": [
    "- 메일 정보, 본문 내용 입력"
   ]
  },
  {
   "cell_type": "code",
   "execution_count": null,
   "metadata": {},
   "outputs": [],
   "source": [
    "mail_add = 'yooleenes@poscohrd.com'\n",
    "mail_sub = '테스트 메일입니다.'\n",
    "main_con1 = '데이터 분석 결과 보내 드립니다'\n",
    "main_con2 = '- 환경부 국가미세먼지정보센터 대기배출원 조사 결과입니다.'\n",
    "main_con3 = '- 대한민국 헌법 키워드 분석 결과입니다.'"
   ]
  },
  {
   "attachments": {},
   "cell_type": "markdown",
   "metadata": {},
   "source": [
    "- 메일 주소 입력"
   ]
  },
  {
   "cell_type": "code",
   "execution_count": null,
   "metadata": {},
   "outputs": [],
   "source": [
    "driver.switch_to.window(driver.window_handles[-1])\n",
    "driver.find_element(By.XPATH, '//*[@id=\"token-input-send_to\"]').send_keys(mail_add)\n",
    "driver.find_element(By.XPATH, '//*[@id=\"token-input-send_to\"]').send_keys(Keys.ENTER)\n",
    "pg.sleep(3)"
   ]
  },
  {
   "attachments": {},
   "cell_type": "markdown",
   "metadata": {},
   "source": [
    "- 메일 제목 입력"
   ]
  },
  {
   "cell_type": "code",
   "execution_count": null,
   "metadata": {},
   "outputs": [],
   "source": [
    "driver.find_element(By.XPATH, '//*[@id=\"write_send_info\"]/table[2]/tbody/tr[1]/td/input').send_keys(main_con1)"
   ]
  },
  {
   "attachments": {},
   "cell_type": "markdown",
   "metadata": {},
   "source": [
    "- 메일 본문 입력(기본 문구)"
   ]
  },
  {
   "cell_type": "code",
   "execution_count": null,
   "metadata": {},
   "outputs": [],
   "source": [
    "driver.switch_to.frame('dext_frame_WEC')\n",
    "driver.switch_to.frame('dext5_design_WEC')\n",
    "\n",
    "# driver.find_element(By.XPATH, '//*[@id=\"dext_body\"]/p[1]').send_keys(Keys.ENTER)\n",
    "driver.find_element(By.XPATH, '//*[@id=\"dext_body\"]/p[1]').send_keys(main_con1)\n",
    "driver.find_element(By.XPATH, '//*[@id=\"dext_body\"]/p[1]').send_keys(Keys.ENTER)\n",
    "driver.find_element(By.XPATH, '//*[@id=\"dext_body\"]/p[1]').send_keys(Keys.ENTER)\n",
    "\n"
   ]
  },
  {
   "attachments": {},
   "cell_type": "markdown",
   "metadata": {},
   "source": [
    "- 메일 본문 입력(정형 데이터)"
   ]
  },
  {
   "cell_type": "code",
   "execution_count": null,
   "metadata": {},
   "outputs": [],
   "source": [
    "driver.find_element(By.XPATH, '//*[@id=\"dext_body\"]/p[1]').send_keys(main_con2)"
   ]
  },
  {
   "attachments": {},
   "cell_type": "markdown",
   "metadata": {},
   "source": [
    "- 이미지 복사(정형 데이터 테이블)"
   ]
  },
  {
   "cell_type": "code",
   "execution_count": null,
   "metadata": {},
   "outputs": [],
   "source": [
    "import pywinauto\n",
    "pg.hotkey('win', 'r')\n",
    "cb.copy('D:\\작업방\\Level2_office\\mean.png')\n",
    "pg.sleep(0.5)\n",
    "pg.hotkey('ctrl', 'v')\n",
    "pg.sleep(0.5)\n",
    "pg.press('enter')\n",
    "pg.sleep(10)\n",
    "\n",
    "\n",
    "# win = pg.getWindowsWithTitle(\"사진\")[0]\n",
    "# pywinauto.application.Application().connect(handle=win._hWnd).top_window().set_focus()\n",
    "# pg.sleep(1)\n",
    "# win.activate()\n",
    "\n",
    "win = pg.getWindowsWithTitle('사진')[0]\n",
    "win.activate()\n",
    "\n",
    "pg.hotkey('ctrl', 'c')"
   ]
  },
  {
   "attachments": {},
   "cell_type": "markdown",
   "metadata": {},
   "source": [
    "- 이미지 붙여넣기(정형 데이터 테이블)"
   ]
  },
  {
   "cell_type": "code",
   "execution_count": null,
   "metadata": {},
   "outputs": [],
   "source": [
    "win = pg.getWindowsWithTitle('메일쓰기')[0]\n",
    "win.activate()\n",
    "\n",
    "pg.press('enter', presses=2)\n",
    "pg.hotkey('ctrl', 'v')\n",
    "pg.sleep(1)\n",
    "pg.press('tab', presses=5, interval=0.2)\n",
    "pg.write('1200')\n",
    "pg.press('tab', presses=5, interval=0.2)\n",
    "pg.press('enter')\n",
    "\n",
    "pg.press('enter')"
   ]
  },
  {
   "attachments": {},
   "cell_type": "markdown",
   "metadata": {},
   "source": [
    "- 메일 본문 입력(비정형 데이터)"
   ]
  },
  {
   "cell_type": "code",
   "execution_count": null,
   "metadata": {},
   "outputs": [],
   "source": []
  },
  {
   "attachments": {},
   "cell_type": "markdown",
   "metadata": {},
   "source": [
    "- 이미지 복사(비정형 데이터 그래프)"
   ]
  },
  {
   "cell_type": "code",
   "execution_count": null,
   "metadata": {},
   "outputs": [],
   "source": []
  },
  {
   "attachments": {},
   "cell_type": "markdown",
   "metadata": {},
   "source": [
    "- 이미지 붙여넣기(비정형 데이터 그래프)"
   ]
  },
  {
   "cell_type": "code",
   "execution_count": null,
   "metadata": {},
   "outputs": [],
   "source": []
  },
  {
   "attachments": {},
   "cell_type": "markdown",
   "metadata": {},
   "source": [
    "- 본문 작성 완료"
   ]
  },
  {
   "cell_type": "code",
   "execution_count": null,
   "metadata": {},
   "outputs": [],
   "source": [
    "driver.switch_to.default_content()"
   ]
  },
  {
   "attachments": {},
   "cell_type": "markdown",
   "metadata": {},
   "source": [
    "- 보내기"
   ]
  },
  {
   "cell_type": "code",
   "execution_count": null,
   "metadata": {},
   "outputs": [],
   "source": [
    "driver.switch_to.window(driver.window_handles[-1])\n",
    "driver.find_element(By.XPATH,'//*[@id=\"memo_content\"]/div[1]/ul[1]/li[1]/a').click()\n",
    "\n",
    "pg.sleep(5)\n",
    "\n",
    "try:\n",
    "    alert = driver.switch_to.alert\n",
    "    alert.accept()\n",
    "except:\n",
    "    print('메일 발송 확인창 없음')\n"
   ]
  }
 ],
 "metadata": {
  "kernelspec": {
   "display_name": "Python 3.9.10 64-bit",
   "language": "python",
   "name": "python3"
  },
  "language_info": {
   "codemirror_mode": {
    "name": "ipython",
    "version": 3
   },
   "file_extension": ".py",
   "mimetype": "text/x-python",
   "name": "python",
   "nbconvert_exporter": "python",
   "pygments_lexer": "ipython3",
   "version": "3.9.10"
  },
  "orig_nbformat": 4,
  "vscode": {
   "interpreter": {
    "hash": "a86e7cc0d3fd2b3984d90a12bd1fbcf5461ee2e2e08ec83f39bc9fc9adb9109f"
   }
  }
 },
 "nbformat": 4,
 "nbformat_minor": 2
}
